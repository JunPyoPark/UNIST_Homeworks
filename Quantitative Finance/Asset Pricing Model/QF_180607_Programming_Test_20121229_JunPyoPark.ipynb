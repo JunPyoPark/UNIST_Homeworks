{
 "cells": [
  {
   "cell_type": "markdown",
   "metadata": {},
   "source": [
    "# Programming Test 180607\n",
    "## 20121229 Jun Pyo Park"
   ]
  },
  {
   "cell_type": "code",
   "execution_count": 15,
   "metadata": {},
   "outputs": [],
   "source": [
    "import pandas as pd\n",
    "import numpy as np\n",
    "from scipy.stats import norm"
   ]
  },
  {
   "cell_type": "markdown",
   "metadata": {},
   "source": [
    "## Parameter Setting"
   ]
  },
  {
   "cell_type": "code",
   "execution_count": 16,
   "metadata": {},
   "outputs": [],
   "source": [
    "Price = 10\n",
    "Rate = 0.03\n",
    "sigma = 0.35\n",
    "Strike = 10"
   ]
  },
  {
   "cell_type": "code",
   "execution_count": 17,
   "metadata": {},
   "outputs": [],
   "source": [
    "Time = 1\n",
    "L = 12\n",
    "dt = Time / L"
   ]
  },
  {
   "cell_type": "markdown",
   "metadata": {},
   "source": [
    "## Standard Monte Carlo Simulation"
   ]
  },
  {
   "cell_type": "code",
   "execution_count": 18,
   "metadata": {},
   "outputs": [],
   "source": [
    "# number of samples\n",
    "M = 2 ** (np.arange(7) + 10)"
   ]
  },
  {
   "cell_type": "markdown",
   "metadata": {},
   "source": [
    "### Arithmetic Asian Put Tutorial"
   ]
  },
  {
   "cell_type": "code",
   "execution_count": 19,
   "metadata": {},
   "outputs": [],
   "source": [
    "paths = pd.DataFrame(np.ones(5) * Price)"
   ]
  },
  {
   "cell_type": "code",
   "execution_count": 20,
   "metadata": {},
   "outputs": [],
   "source": [
    "# Construct the Path\n",
    "for j in range(L):\n",
    "    z = np.random.randn(5)\n",
    "    paths[j+1] = paths[j] * np.exp((Rate - 0.5 * sigma * sigma ) * dt + sigma * np.sqrt(dt) * z)"
   ]
  },
  {
   "cell_type": "code",
   "execution_count": 21,
   "metadata": {},
   "outputs": [
    {
     "data": {
      "text/html": [
       "<div>\n",
       "<style scoped>\n",
       "    .dataframe tbody tr th:only-of-type {\n",
       "        vertical-align: middle;\n",
       "    }\n",
       "\n",
       "    .dataframe tbody tr th {\n",
       "        vertical-align: top;\n",
       "    }\n",
       "\n",
       "    .dataframe thead th {\n",
       "        text-align: right;\n",
       "    }\n",
       "</style>\n",
       "<table border=\"1\" class=\"dataframe\">\n",
       "  <thead>\n",
       "    <tr style=\"text-align: right;\">\n",
       "      <th></th>\n",
       "      <th>1</th>\n",
       "      <th>2</th>\n",
       "      <th>3</th>\n",
       "      <th>4</th>\n",
       "      <th>5</th>\n",
       "      <th>6</th>\n",
       "      <th>7</th>\n",
       "      <th>8</th>\n",
       "      <th>9</th>\n",
       "      <th>10</th>\n",
       "      <th>11</th>\n",
       "      <th>12</th>\n",
       "    </tr>\n",
       "  </thead>\n",
       "  <tbody>\n",
       "    <tr>\n",
       "      <th>0</th>\n",
       "      <td>9.868823</td>\n",
       "      <td>9.533708</td>\n",
       "      <td>8.236977</td>\n",
       "      <td>7.622464</td>\n",
       "      <td>8.110069</td>\n",
       "      <td>8.874465</td>\n",
       "      <td>8.711180</td>\n",
       "      <td>7.843142</td>\n",
       "      <td>6.850226</td>\n",
       "      <td>7.523037</td>\n",
       "      <td>7.011537</td>\n",
       "      <td>6.624097</td>\n",
       "    </tr>\n",
       "    <tr>\n",
       "      <th>1</th>\n",
       "      <td>9.564724</td>\n",
       "      <td>8.638569</td>\n",
       "      <td>10.620038</td>\n",
       "      <td>9.548234</td>\n",
       "      <td>9.196898</td>\n",
       "      <td>8.096801</td>\n",
       "      <td>6.744560</td>\n",
       "      <td>7.408455</td>\n",
       "      <td>8.560481</td>\n",
       "      <td>7.674999</td>\n",
       "      <td>9.066900</td>\n",
       "      <td>8.744053</td>\n",
       "    </tr>\n",
       "    <tr>\n",
       "      <th>2</th>\n",
       "      <td>9.395406</td>\n",
       "      <td>8.177188</td>\n",
       "      <td>8.080832</td>\n",
       "      <td>7.198461</td>\n",
       "      <td>7.100110</td>\n",
       "      <td>6.784145</td>\n",
       "      <td>7.990025</td>\n",
       "      <td>8.224161</td>\n",
       "      <td>10.221478</td>\n",
       "      <td>10.183448</td>\n",
       "      <td>8.952819</td>\n",
       "      <td>8.901669</td>\n",
       "    </tr>\n",
       "    <tr>\n",
       "      <th>3</th>\n",
       "      <td>10.411659</td>\n",
       "      <td>9.735496</td>\n",
       "      <td>8.019142</td>\n",
       "      <td>8.175615</td>\n",
       "      <td>6.895835</td>\n",
       "      <td>7.026632</td>\n",
       "      <td>7.750883</td>\n",
       "      <td>7.063488</td>\n",
       "      <td>6.689812</td>\n",
       "      <td>5.668864</td>\n",
       "      <td>6.593407</td>\n",
       "      <td>6.211912</td>\n",
       "    </tr>\n",
       "    <tr>\n",
       "      <th>4</th>\n",
       "      <td>10.168871</td>\n",
       "      <td>10.934815</td>\n",
       "      <td>10.285601</td>\n",
       "      <td>10.766457</td>\n",
       "      <td>11.013949</td>\n",
       "      <td>11.618472</td>\n",
       "      <td>11.152151</td>\n",
       "      <td>11.968315</td>\n",
       "      <td>11.135692</td>\n",
       "      <td>10.293233</td>\n",
       "      <td>12.373544</td>\n",
       "      <td>13.462007</td>\n",
       "    </tr>\n",
       "  </tbody>\n",
       "</table>\n",
       "</div>"
      ],
      "text/plain": [
       "          1          2          3          4          5          6   \\\n",
       "0   9.868823   9.533708   8.236977   7.622464   8.110069   8.874465   \n",
       "1   9.564724   8.638569  10.620038   9.548234   9.196898   8.096801   \n",
       "2   9.395406   8.177188   8.080832   7.198461   7.100110   6.784145   \n",
       "3  10.411659   9.735496   8.019142   8.175615   6.895835   7.026632   \n",
       "4  10.168871  10.934815  10.285601  10.766457  11.013949  11.618472   \n",
       "\n",
       "          7          8          9          10         11         12  \n",
       "0   8.711180   7.843142   6.850226   7.523037   7.011537   6.624097  \n",
       "1   6.744560   7.408455   8.560481   7.674999   9.066900   8.744053  \n",
       "2   7.990025   8.224161  10.221478  10.183448   8.952819   8.901669  \n",
       "3   7.750883   7.063488   6.689812   5.668864   6.593407   6.211912  \n",
       "4  11.152151  11.968315  11.135692  10.293233  12.373544  13.462007  "
      ]
     },
     "execution_count": 21,
     "metadata": {},
     "output_type": "execute_result"
    }
   ],
   "source": [
    "f = paths.loc[:,1:]\n",
    "f"
   ]
  },
  {
   "cell_type": "code",
   "execution_count": 22,
   "metadata": {},
   "outputs": [],
   "source": [
    "final_value = f.mean(axis=1)"
   ]
  },
  {
   "cell_type": "code",
   "execution_count": 23,
   "metadata": {},
   "outputs": [
    {
     "data": {
      "text/plain": [
       "0     8.067477\n",
       "1     8.655393\n",
       "2     8.434145\n",
       "3     7.520229\n",
       "4    11.264426\n",
       "dtype: float64"
      ]
     },
     "execution_count": 23,
     "metadata": {},
     "output_type": "execute_result"
    }
   ],
   "source": [
    "final_value"
   ]
  },
  {
   "cell_type": "code",
   "execution_count": 24,
   "metadata": {},
   "outputs": [
    {
     "data": {
      "text/plain": [
       "0    1.932523\n",
       "1    1.344607\n",
       "2    1.565855\n",
       "3    2.479771\n",
       "4    0.000000\n",
       "dtype: float64"
      ]
     },
     "execution_count": 24,
     "metadata": {},
     "output_type": "execute_result"
    }
   ],
   "source": [
    "final_value.apply(lambda x : max(Strike-x,0))"
   ]
  },
  {
   "cell_type": "markdown",
   "metadata": {},
   "source": [
    "## Standard Monte Carlo Method"
   ]
  },
  {
   "cell_type": "code",
   "execution_count": 27,
   "metadata": {},
   "outputs": [],
   "source": [
    "V_ave = []\n",
    "V_se = []\n",
    "for i in M:\n",
    "    \n",
    "    paths = pd.DataFrame(np.ones(i) * Price)\n",
    "    for j in range(L):\n",
    "         paths[j+1] = paths[j].apply(lambda x : x* np.exp((Rate - 0.5 * sigma * sigma ) * dt + sigma * np.sqrt(dt) * np.random.randn()))\n",
    "    f = paths.loc[:,1:]\n",
    "    final_value = f.mean(axis=1)\n",
    "    V = final_value.apply(lambda x : max(Strike-x,0))  * np.exp(-Rate*Time)\n",
    "    V_ave.append(V.mean())\n",
    "    V_se.append(V.std() / np.sqrt(i))\n",
    "\n",
    "V_ave = np.array(V_ave)\n",
    "V_se = np.array(V_se)\n",
    "\n",
    "\n",
    "st_MC = pd.DataFrame()\n",
    "st_MC['Lower Bound'] =  V_ave - 1.96 * V_se\n",
    "st_MC['Upper Bound'] =  V_ave + 1.96 * V_se\n",
    "\n"
   ]
  },
  {
   "cell_type": "markdown",
   "metadata": {},
   "source": [
    "### Standard Monte Carlo Result"
   ]
  },
  {
   "cell_type": "code",
   "execution_count": 28,
   "metadata": {},
   "outputs": [
    {
     "data": {
      "text/html": [
       "<div>\n",
       "<style scoped>\n",
       "    .dataframe tbody tr th:only-of-type {\n",
       "        vertical-align: middle;\n",
       "    }\n",
       "\n",
       "    .dataframe tbody tr th {\n",
       "        vertical-align: top;\n",
       "    }\n",
       "\n",
       "    .dataframe thead th {\n",
       "        text-align: right;\n",
       "    }\n",
       "</style>\n",
       "<table border=\"1\" class=\"dataframe\">\n",
       "  <thead>\n",
       "    <tr style=\"text-align: right;\">\n",
       "      <th></th>\n",
       "      <th>Lower Bound</th>\n",
       "      <th>Upper Bound</th>\n",
       "      <th>length</th>\n",
       "    </tr>\n",
       "  </thead>\n",
       "  <tbody>\n",
       "    <tr>\n",
       "      <th>0</th>\n",
       "      <td>0.713240</td>\n",
       "      <td>0.838293</td>\n",
       "      <td>0.125052</td>\n",
       "    </tr>\n",
       "    <tr>\n",
       "      <th>1</th>\n",
       "      <td>0.702727</td>\n",
       "      <td>0.790720</td>\n",
       "      <td>0.087993</td>\n",
       "    </tr>\n",
       "    <tr>\n",
       "      <th>2</th>\n",
       "      <td>0.736175</td>\n",
       "      <td>0.799411</td>\n",
       "      <td>0.063236</td>\n",
       "    </tr>\n",
       "    <tr>\n",
       "      <th>3</th>\n",
       "      <td>0.745813</td>\n",
       "      <td>0.790250</td>\n",
       "      <td>0.044437</td>\n",
       "    </tr>\n",
       "    <tr>\n",
       "      <th>4</th>\n",
       "      <td>0.743080</td>\n",
       "      <td>0.774425</td>\n",
       "      <td>0.031346</td>\n",
       "    </tr>\n",
       "    <tr>\n",
       "      <th>5</th>\n",
       "      <td>0.751886</td>\n",
       "      <td>0.773914</td>\n",
       "      <td>0.022029</td>\n",
       "    </tr>\n",
       "    <tr>\n",
       "      <th>6</th>\n",
       "      <td>0.750038</td>\n",
       "      <td>0.765568</td>\n",
       "      <td>0.015530</td>\n",
       "    </tr>\n",
       "  </tbody>\n",
       "</table>\n",
       "</div>"
      ],
      "text/plain": [
       "   Lower Bound  Upper Bound    length\n",
       "0     0.713240     0.838293  0.125052\n",
       "1     0.702727     0.790720  0.087993\n",
       "2     0.736175     0.799411  0.063236\n",
       "3     0.745813     0.790250  0.044437\n",
       "4     0.743080     0.774425  0.031346\n",
       "5     0.751886     0.773914  0.022029\n",
       "6     0.750038     0.765568  0.015530"
      ]
     },
     "execution_count": 28,
     "metadata": {},
     "output_type": "execute_result"
    }
   ],
   "source": [
    "st_MC['length'] = st_MC['Upper Bound'] - st_MC['Lower Bound']\n",
    "st_MC"
   ]
  },
  {
   "cell_type": "markdown",
   "metadata": {},
   "source": [
    "## Antithetic variate method"
   ]
  },
  {
   "cell_type": "code",
   "execution_count": 31,
   "metadata": {},
   "outputs": [
    {
     "name": "stdout",
     "output_type": "stream",
     "text": [
      "[0.77039    0.76082471 0.75297781 0.76248361 0.75598287 0.76480291\n",
      " 0.75726098]\n"
     ]
    },
    {
     "data": {
      "text/html": [
       "<div>\n",
       "<style scoped>\n",
       "    .dataframe tbody tr th:only-of-type {\n",
       "        vertical-align: middle;\n",
       "    }\n",
       "\n",
       "    .dataframe tbody tr th {\n",
       "        vertical-align: top;\n",
       "    }\n",
       "\n",
       "    .dataframe thead th {\n",
       "        text-align: right;\n",
       "    }\n",
       "</style>\n",
       "<table border=\"1\" class=\"dataframe\">\n",
       "  <thead>\n",
       "    <tr style=\"text-align: right;\">\n",
       "      <th></th>\n",
       "      <th>Lower Bound</th>\n",
       "      <th>Upper Bound</th>\n",
       "    </tr>\n",
       "  </thead>\n",
       "  <tbody>\n",
       "    <tr>\n",
       "      <th>0</th>\n",
       "      <td>0.740907</td>\n",
       "      <td>0.799873</td>\n",
       "    </tr>\n",
       "    <tr>\n",
       "      <th>1</th>\n",
       "      <td>0.740576</td>\n",
       "      <td>0.781074</td>\n",
       "    </tr>\n",
       "    <tr>\n",
       "      <th>2</th>\n",
       "      <td>0.738545</td>\n",
       "      <td>0.767410</td>\n",
       "    </tr>\n",
       "    <tr>\n",
       "      <th>3</th>\n",
       "      <td>0.752012</td>\n",
       "      <td>0.772955</td>\n",
       "    </tr>\n",
       "    <tr>\n",
       "      <th>4</th>\n",
       "      <td>0.748644</td>\n",
       "      <td>0.763321</td>\n",
       "    </tr>\n",
       "    <tr>\n",
       "      <th>5</th>\n",
       "      <td>0.759592</td>\n",
       "      <td>0.770013</td>\n",
       "    </tr>\n",
       "    <tr>\n",
       "      <th>6</th>\n",
       "      <td>0.753585</td>\n",
       "      <td>0.760937</td>\n",
       "    </tr>\n",
       "  </tbody>\n",
       "</table>\n",
       "</div>"
      ],
      "text/plain": [
       "   Lower Bound  Upper Bound\n",
       "0     0.740907     0.799873\n",
       "1     0.740576     0.781074\n",
       "2     0.738545     0.767410\n",
       "3     0.752012     0.772955\n",
       "4     0.748644     0.763321\n",
       "5     0.759592     0.770013\n",
       "6     0.753585     0.760937"
      ]
     },
     "execution_count": 31,
     "metadata": {},
     "output_type": "execute_result"
    }
   ],
   "source": [
    "V_ave = []\n",
    "V_se = []\n",
    "for i in M:\n",
    "    \n",
    "    paths = pd.DataFrame(np.ones(i) * Price)\n",
    "    paths_2 = pd.DataFrame(np.ones(i) * Price)\n",
    "    for j in range(L):\n",
    "        z = np.random.randn(i)\n",
    "        paths[j+1] = paths[j] * np.exp((Rate - 0.5 * sigma * sigma ) * dt + sigma * np.sqrt(dt) * z)\n",
    "        paths_2[j+1] = paths_2[j] * np.exp((Rate - 0.5 * sigma * sigma ) * dt - sigma * np.sqrt(dt) * z)\n",
    "        \n",
    "    f = paths.loc[:,1:]\n",
    "    final_value = f.mean(axis=1)\n",
    "    V = final_value.apply(lambda x : max(Strike-x,0)) * np.exp(-Rate*Time)\n",
    "    \n",
    "    f = paths_2.loc[:,1:]\n",
    "    final_value = f.mean(axis=1)\n",
    "    V_2 = final_value.apply(lambda x : max(Strike-x,0)) * np.exp(-Rate*Time)\n",
    "    \n",
    "    \n",
    "    V_hat = 0.5 * (V + V_2)\n",
    "    V_ave.append(V_hat.mean())\n",
    "    V_se.append((V_hat.std() / np.sqrt(i)))\n",
    "\n",
    "V_ave = np.array(V_ave)\n",
    "V_se = np.array(V_se)\n",
    "\n",
    "print(V_ave)\n",
    "av_method = pd.DataFrame()\n",
    "av_method['Lower Bound'] =  V_ave - 1.96 * V_se\n",
    "av_method['Upper Bound'] =  V_ave + 1.96 * V_se\n",
    "\n",
    "av_method"
   ]
  },
  {
   "cell_type": "markdown",
   "metadata": {},
   "source": [
    "## Antithetic Variate Result"
   ]
  },
  {
   "cell_type": "code",
   "execution_count": 32,
   "metadata": {
    "scrolled": true
   },
   "outputs": [
    {
     "data": {
      "text/html": [
       "<div>\n",
       "<style scoped>\n",
       "    .dataframe tbody tr th:only-of-type {\n",
       "        vertical-align: middle;\n",
       "    }\n",
       "\n",
       "    .dataframe tbody tr th {\n",
       "        vertical-align: top;\n",
       "    }\n",
       "\n",
       "    .dataframe thead th {\n",
       "        text-align: right;\n",
       "    }\n",
       "</style>\n",
       "<table border=\"1\" class=\"dataframe\">\n",
       "  <thead>\n",
       "    <tr style=\"text-align: right;\">\n",
       "      <th></th>\n",
       "      <th>Lower Bound</th>\n",
       "      <th>Upper Bound</th>\n",
       "      <th>length</th>\n",
       "      <th>Ratio_of_Width</th>\n",
       "    </tr>\n",
       "  </thead>\n",
       "  <tbody>\n",
       "    <tr>\n",
       "      <th>0</th>\n",
       "      <td>0.740907</td>\n",
       "      <td>0.799873</td>\n",
       "      <td>0.058965</td>\n",
       "      <td>2.120774</td>\n",
       "    </tr>\n",
       "    <tr>\n",
       "      <th>1</th>\n",
       "      <td>0.740576</td>\n",
       "      <td>0.781074</td>\n",
       "      <td>0.040498</td>\n",
       "      <td>2.172786</td>\n",
       "    </tr>\n",
       "    <tr>\n",
       "      <th>2</th>\n",
       "      <td>0.738545</td>\n",
       "      <td>0.767410</td>\n",
       "      <td>0.028865</td>\n",
       "      <td>2.190746</td>\n",
       "    </tr>\n",
       "    <tr>\n",
       "      <th>3</th>\n",
       "      <td>0.752012</td>\n",
       "      <td>0.772955</td>\n",
       "      <td>0.020944</td>\n",
       "      <td>2.121746</td>\n",
       "    </tr>\n",
       "    <tr>\n",
       "      <th>4</th>\n",
       "      <td>0.748644</td>\n",
       "      <td>0.763321</td>\n",
       "      <td>0.014677</td>\n",
       "      <td>2.135712</td>\n",
       "    </tr>\n",
       "    <tr>\n",
       "      <th>5</th>\n",
       "      <td>0.759592</td>\n",
       "      <td>0.770013</td>\n",
       "      <td>0.010421</td>\n",
       "      <td>2.113857</td>\n",
       "    </tr>\n",
       "    <tr>\n",
       "      <th>6</th>\n",
       "      <td>0.753585</td>\n",
       "      <td>0.760937</td>\n",
       "      <td>0.007353</td>\n",
       "      <td>2.112153</td>\n",
       "    </tr>\n",
       "  </tbody>\n",
       "</table>\n",
       "</div>"
      ],
      "text/plain": [
       "   Lower Bound  Upper Bound    length  Ratio_of_Width\n",
       "0     0.740907     0.799873  0.058965        2.120774\n",
       "1     0.740576     0.781074  0.040498        2.172786\n",
       "2     0.738545     0.767410  0.028865        2.190746\n",
       "3     0.752012     0.772955  0.020944        2.121746\n",
       "4     0.748644     0.763321  0.014677        2.135712\n",
       "5     0.759592     0.770013  0.010421        2.113857\n",
       "6     0.753585     0.760937  0.007353        2.112153"
      ]
     },
     "execution_count": 32,
     "metadata": {},
     "output_type": "execute_result"
    }
   ],
   "source": [
    "av_method['length'] = av_method['Upper Bound'] - av_method['Lower Bound']\n",
    "av_method['Ratio_of_Width'] = st_MC['length'] / av_method['length']\n",
    "av_method"
   ]
  },
  {
   "cell_type": "markdown",
   "metadata": {},
   "source": [
    "## Control variate method"
   ]
  },
  {
   "cell_type": "markdown",
   "metadata": {},
   "source": [
    "### Calculating Theoritical Value Using Given Formula"
   ]
  },
  {
   "cell_type": "code",
   "execution_count": 34,
   "metadata": {},
   "outputs": [
    {
     "data": {
      "text/plain": [
       "0.21466085438991292"
      ]
     },
     "execution_count": 34,
     "metadata": {},
     "output_type": "execute_result"
    }
   ],
   "source": [
    "sigma_hat = np.sqrt(sigma*sigma * (L+1)*(2*L+1) / (6*L*L))\n",
    "sigma_hat"
   ]
  },
  {
   "cell_type": "code",
   "execution_count": 35,
   "metadata": {},
   "outputs": [
    {
     "data": {
      "text/plain": [
       "0.006112557870370371"
      ]
     },
     "execution_count": 35,
     "metadata": {},
     "output_type": "execute_result"
    }
   ],
   "source": [
    "mu_hat = 0.5*sigma_hat**2 + (Rate - 0.5 * sigma**2) * (L+1) / (2*L)\n",
    "mu_hat"
   ]
  },
  {
   "cell_type": "code",
   "execution_count": 36,
   "metadata": {},
   "outputs": [
    {
     "data": {
      "text/plain": [
       "0.13580584665484288"
      ]
     },
     "execution_count": 36,
     "metadata": {},
     "output_type": "execute_result"
    }
   ],
   "source": [
    "d1_hat = (np.log(Price/Strike) + (mu_hat + 0.5*sigma_hat**2)*Time) / (sigma_hat * np.sqrt(Time))\n",
    "d1_hat"
   ]
  },
  {
   "cell_type": "code",
   "execution_count": 37,
   "metadata": {},
   "outputs": [
    {
     "data": {
      "text/plain": [
       "-0.07885500773507004"
      ]
     },
     "execution_count": 37,
     "metadata": {},
     "output_type": "execute_result"
    }
   ],
   "source": [
    "d2_hat = d1_hat - sigma_hat * np.sqrt(Time)\n",
    "d2_hat"
   ]
  },
  {
   "cell_type": "code",
   "execution_count": 38,
   "metadata": {},
   "outputs": [
    {
     "data": {
      "text/plain": [
       "0.8025989030185081"
      ]
     },
     "execution_count": 38,
     "metadata": {},
     "output_type": "execute_result"
    }
   ],
   "source": [
    "geo_asian_put = np.exp(-Rate * Time) * (-Price*np.exp(mu_hat * Time) * norm.cdf(-d1_hat) + Strike * norm.cdf(-d2_hat))\n",
    "geo_asian_put"
   ]
  },
  {
   "cell_type": "code",
   "execution_count": 40,
   "metadata": {},
   "outputs": [
    {
     "data": {
      "text/html": [
       "<div>\n",
       "<style scoped>\n",
       "    .dataframe tbody tr th:only-of-type {\n",
       "        vertical-align: middle;\n",
       "    }\n",
       "\n",
       "    .dataframe tbody tr th {\n",
       "        vertical-align: top;\n",
       "    }\n",
       "\n",
       "    .dataframe thead th {\n",
       "        text-align: right;\n",
       "    }\n",
       "</style>\n",
       "<table border=\"1\" class=\"dataframe\">\n",
       "  <thead>\n",
       "    <tr style=\"text-align: right;\">\n",
       "      <th></th>\n",
       "      <th>Lower Bound</th>\n",
       "      <th>Upper Bound</th>\n",
       "    </tr>\n",
       "  </thead>\n",
       "  <tbody>\n",
       "    <tr>\n",
       "      <th>0</th>\n",
       "      <td>0.757654</td>\n",
       "      <td>0.764883</td>\n",
       "    </tr>\n",
       "    <tr>\n",
       "      <th>1</th>\n",
       "      <td>0.756753</td>\n",
       "      <td>0.761905</td>\n",
       "    </tr>\n",
       "    <tr>\n",
       "      <th>2</th>\n",
       "      <td>0.757703</td>\n",
       "      <td>0.761486</td>\n",
       "    </tr>\n",
       "    <tr>\n",
       "      <th>3</th>\n",
       "      <td>0.758945</td>\n",
       "      <td>0.761622</td>\n",
       "    </tr>\n",
       "    <tr>\n",
       "      <th>4</th>\n",
       "      <td>0.758681</td>\n",
       "      <td>0.760609</td>\n",
       "    </tr>\n",
       "    <tr>\n",
       "      <th>5</th>\n",
       "      <td>0.759181</td>\n",
       "      <td>0.760522</td>\n",
       "    </tr>\n",
       "    <tr>\n",
       "      <th>6</th>\n",
       "      <td>0.759349</td>\n",
       "      <td>0.760302</td>\n",
       "    </tr>\n",
       "  </tbody>\n",
       "</table>\n",
       "</div>"
      ],
      "text/plain": [
       "   Lower Bound  Upper Bound\n",
       "0     0.757654     0.764883\n",
       "1     0.756753     0.761905\n",
       "2     0.757703     0.761486\n",
       "3     0.758945     0.761622\n",
       "4     0.758681     0.760609\n",
       "5     0.759181     0.760522\n",
       "6     0.759349     0.760302"
      ]
     },
     "execution_count": 40,
     "metadata": {},
     "output_type": "execute_result"
    }
   ],
   "source": [
    "V_ave = []\n",
    "V_se = []\n",
    "for i in M:\n",
    "    \n",
    "    paths = pd.DataFrame(np.ones(i) * Price)\n",
    "    for j in range(L):\n",
    "        z = np.random.randn(i)\n",
    "        paths[j+1] = paths[j] * np.exp((Rate - 0.5 * sigma * sigma ) * dt + sigma * np.sqrt(dt) * z)\n",
    "        \n",
    "        \n",
    "    f = paths.loc[:,1:]\n",
    "    final_value = f.mean(axis=1)\n",
    "    arith_value = final_value.apply(lambda x : max(Strike-x,0)) * np.exp(-Rate*Time)\n",
    "    \n",
    "    final_value = f.prod(axis=1) ** (1/L)\n",
    "    geo_value = final_value.apply(lambda x : max(Strike-x,0)) * np.exp(-Rate*Time)\n",
    "    \n",
    "    V = arith_value - geo_value + geo_asian_put\n",
    "    \n",
    "    V_ave.append(V.mean())\n",
    "    V_se.append(V.std() / np.sqrt(i))\n",
    "\n",
    "V_ave = np.array(V_ave)\n",
    "V_se = np.array(V_se)\n",
    "\n",
    "cv_method = pd.DataFrame()\n",
    "cv_method['Lower Bound'] =  V_ave - 1.96 * V_se\n",
    "cv_method['Upper Bound'] =  V_ave + 1.96 * V_se\n",
    "\n",
    "cv_method"
   ]
  },
  {
   "cell_type": "markdown",
   "metadata": {},
   "source": [
    "## Control Variate Method Result"
   ]
  },
  {
   "cell_type": "code",
   "execution_count": 41,
   "metadata": {},
   "outputs": [
    {
     "data": {
      "text/html": [
       "<div>\n",
       "<style scoped>\n",
       "    .dataframe tbody tr th:only-of-type {\n",
       "        vertical-align: middle;\n",
       "    }\n",
       "\n",
       "    .dataframe tbody tr th {\n",
       "        vertical-align: top;\n",
       "    }\n",
       "\n",
       "    .dataframe thead th {\n",
       "        text-align: right;\n",
       "    }\n",
       "</style>\n",
       "<table border=\"1\" class=\"dataframe\">\n",
       "  <thead>\n",
       "    <tr style=\"text-align: right;\">\n",
       "      <th></th>\n",
       "      <th>Lower Bound</th>\n",
       "      <th>Upper Bound</th>\n",
       "      <th>length</th>\n",
       "      <th>Ratio_of_Width</th>\n",
       "    </tr>\n",
       "  </thead>\n",
       "  <tbody>\n",
       "    <tr>\n",
       "      <th>0</th>\n",
       "      <td>0.757654</td>\n",
       "      <td>0.764883</td>\n",
       "      <td>0.007228</td>\n",
       "      <td>17.300241</td>\n",
       "    </tr>\n",
       "    <tr>\n",
       "      <th>1</th>\n",
       "      <td>0.756753</td>\n",
       "      <td>0.761905</td>\n",
       "      <td>0.005152</td>\n",
       "      <td>17.078749</td>\n",
       "    </tr>\n",
       "    <tr>\n",
       "      <th>2</th>\n",
       "      <td>0.757703</td>\n",
       "      <td>0.761486</td>\n",
       "      <td>0.003783</td>\n",
       "      <td>16.713719</td>\n",
       "    </tr>\n",
       "    <tr>\n",
       "      <th>3</th>\n",
       "      <td>0.758945</td>\n",
       "      <td>0.761622</td>\n",
       "      <td>0.002677</td>\n",
       "      <td>16.599008</td>\n",
       "    </tr>\n",
       "    <tr>\n",
       "      <th>4</th>\n",
       "      <td>0.758681</td>\n",
       "      <td>0.760609</td>\n",
       "      <td>0.001928</td>\n",
       "      <td>16.256454</td>\n",
       "    </tr>\n",
       "    <tr>\n",
       "      <th>5</th>\n",
       "      <td>0.759181</td>\n",
       "      <td>0.760522</td>\n",
       "      <td>0.001340</td>\n",
       "      <td>16.435497</td>\n",
       "    </tr>\n",
       "    <tr>\n",
       "      <th>6</th>\n",
       "      <td>0.759349</td>\n",
       "      <td>0.760302</td>\n",
       "      <td>0.000953</td>\n",
       "      <td>16.294183</td>\n",
       "    </tr>\n",
       "  </tbody>\n",
       "</table>\n",
       "</div>"
      ],
      "text/plain": [
       "   Lower Bound  Upper Bound    length  Ratio_of_Width\n",
       "0     0.757654     0.764883  0.007228       17.300241\n",
       "1     0.756753     0.761905  0.005152       17.078749\n",
       "2     0.757703     0.761486  0.003783       16.713719\n",
       "3     0.758945     0.761622  0.002677       16.599008\n",
       "4     0.758681     0.760609  0.001928       16.256454\n",
       "5     0.759181     0.760522  0.001340       16.435497\n",
       "6     0.759349     0.760302  0.000953       16.294183"
      ]
     },
     "execution_count": 41,
     "metadata": {},
     "output_type": "execute_result"
    }
   ],
   "source": [
    "cv_method['length'] = cv_method['Upper Bound'] - cv_method['Lower Bound']\n",
    "cv_method['Ratio_of_Width'] = st_MC['length'] / cv_method['length']\n",
    "cv_method"
   ]
  },
  {
   "cell_type": "code",
   "execution_count": null,
   "metadata": {},
   "outputs": [],
   "source": []
  }
 ],
 "metadata": {
  "kernelspec": {
   "display_name": "Python 3",
   "language": "python",
   "name": "python3"
  },
  "language_info": {
   "codemirror_mode": {
    "name": "ipython",
    "version": 3
   },
   "file_extension": ".py",
   "mimetype": "text/x-python",
   "name": "python",
   "nbconvert_exporter": "python",
   "pygments_lexer": "ipython3",
   "version": "3.6.1"
  }
 },
 "nbformat": 4,
 "nbformat_minor": 2
}

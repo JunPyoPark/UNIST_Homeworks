{
 "cells": [
  {
   "cell_type": "markdown",
   "metadata": {},
   "source": [
    "# MGE30301 Data Mining Homework 4"
   ]
  },
  {
   "cell_type": "markdown",
   "metadata": {},
   "source": [
    "## K-means algorithm tutorial"
   ]
  },
  {
   "cell_type": "markdown",
   "metadata": {},
   "source": [
    "### 20121229 JunPyo Park"
   ]
  },
  {
   "cell_type": "markdown",
   "metadata": {},
   "source": [
    "### About Readme File"
   ]
  },
  {
   "cell_type": "markdown",
   "metadata": {},
   "source": [
    "I put all instructions and working process here(jupyter notebook) clearly so I didn't make other readme file for my homework."
   ]
  },
  {
   "cell_type": "markdown",
   "metadata": {},
   "source": [
    "I use famous Iris dataset from sklearn package. <br>\n",
    "First I made the code for the case k=3 and after doing this I made general function which is working for other k input. <br>\n",
    "Using this function I calculated Cluster Quality Measure for different k and plot this result."
   ]
  },
  {
   "cell_type": "code",
   "execution_count": 1,
   "metadata": {},
   "outputs": [],
   "source": [
    "import plotly.plotly as py\n",
    "import plotly.graph_objs as go\n",
    "import numpy as np\n",
    "import pandas as pd\n",
    "from sklearn import datasets\n",
    "from jupyterthemes import jtplot\n",
    "import matplotlib.pyplot as plt\n",
    "jtplot.style('grade3')"
   ]
  },
  {
   "cell_type": "markdown",
   "metadata": {},
   "source": [
    "### Load Data"
   ]
  },
  {
   "cell_type": "code",
   "execution_count": 2,
   "metadata": {},
   "outputs": [],
   "source": [
    "iris = datasets.load_iris() # load iris dataset"
   ]
  },
  {
   "cell_type": "code",
   "execution_count": 3,
   "metadata": {},
   "outputs": [
    {
     "data": {
      "text/plain": [
       "(150, 2)"
      ]
     },
     "execution_count": 3,
     "metadata": {},
     "output_type": "execute_result"
    }
   ],
   "source": [
    "X = iris.data[:, :2] # select two features\n",
    "X.shape"
   ]
  },
  {
   "cell_type": "markdown",
   "metadata": {},
   "source": [
    "### Data Visualization"
   ]
  },
  {
   "cell_type": "code",
   "execution_count": 4,
   "metadata": {
    "scrolled": false
   },
   "outputs": [
    {
     "data": {
      "text/html": [
       "<iframe id=\"igraph\" scrolling=\"no\" style=\"border:none;\" seamless=\"seamless\" src=\"https://plot.ly/~wnsvy1994/60.embed\" height=\"525px\" width=\"100%\"></iframe>"
      ],
      "text/plain": [
       "<plotly.tools.PlotlyDisplay object>"
      ]
     },
     "execution_count": 4,
     "metadata": {},
     "output_type": "execute_result"
    }
   ],
   "source": [
    "trace = go.Scatter(\n",
    "    x = X[:,0],\n",
    "    y = X[:,1],\n",
    "    name = 'Data_Point',\n",
    "    mode = 'markers'\n",
    ")\n",
    "\n",
    "data = [trace]\n",
    "fig = dict(data=data)\n",
    "py.iplot(fig, filename='basic-scatter')"
   ]
  },
  {
   "cell_type": "markdown",
   "metadata": {},
   "source": [
    "<img src = \"https://trello-attachments.s3.amazonaws.com/5b29ec749cfb0d90ada47d03/5beed95bfb72bb45f20889bf/fb75b55735f7c79981a1ca59467a0210/image.png\">"
   ]
  },
  {
   "cell_type": "markdown",
   "metadata": {},
   "source": [
    "### Choose Initial Random Points (For the Case k=3)"
   ]
  },
  {
   "cell_type": "code",
   "execution_count": 5,
   "metadata": {},
   "outputs": [
    {
     "name": "stdout",
     "output_type": "stream",
     "text": [
      "Initial 3 Random Point\n",
      "[[ 5.9  3. ]\n",
      " [ 5.4  3.9]\n",
      " [ 5.7  3. ]]\n"
     ]
    }
   ],
   "source": [
    "# The number of clusters and data\n",
    "k = 3\n",
    "m = X.shape[0]\n",
    "\n",
    "# ramdomly initialize mean points\n",
    "mu = X[np.random.randint(0,m,k),:]\n",
    "pre_mu = mu.copy()\n",
    "\n",
    "print(\"Initial 3 Random Point\")\n",
    "print(mu)"
   ]
  },
  {
   "cell_type": "code",
   "execution_count": 6,
   "metadata": {},
   "outputs": [
    {
     "data": {
      "text/html": [
       "<iframe id=\"igraph\" scrolling=\"no\" style=\"border:none;\" seamless=\"seamless\" src=\"https://plot.ly/~wnsvy1994/62.embed\" height=\"525px\" width=\"100%\"></iframe>"
      ],
      "text/plain": [
       "<plotly.tools.PlotlyDisplay object>"
      ]
     },
     "execution_count": 6,
     "metadata": {},
     "output_type": "execute_result"
    }
   ],
   "source": [
    "trace1 = go.Scatter(\n",
    "    x = mu[:,0],\n",
    "    y = mu[:,1],\n",
    "    name = 'Initial_Random_Point',\n",
    "    mode = 'markers',\n",
    "    marker = dict(\n",
    "        size = 10,\n",
    "        color = 'rgba(255, 182, 193, .9)',\n",
    "        line = dict(\n",
    "            width = 2,\n",
    "        )\n",
    "    )\n",
    ")\n",
    "\n",
    "data = [trace, trace1]\n",
    "\n",
    "fig = dict(data=data)\n",
    "py.iplot(fig, filename='add_initial_point')"
   ]
  },
  {
   "cell_type": "markdown",
   "metadata": {},
   "source": [
    "<img src = \"https://trello-attachments.s3.amazonaws.com/5b29ec749cfb0d90ada47d03/5beed95bfb72bb45f20889bf/368d29a94ba0a999ddaaeba0a0642885/image.png\">"
   ]
  },
  {
   "cell_type": "markdown",
   "metadata": {},
   "source": [
    "### Running K-means Algorithm"
   ]
  },
  {
   "cell_type": "code",
   "execution_count": 7,
   "metadata": {},
   "outputs": [
    {
     "name": "stdout",
     "output_type": "stream",
     "text": [
      "Iteration: 9\n"
     ]
    }
   ],
   "source": [
    "y = np.empty([m,1])\n",
    "tolerance = 1e-15 # Setting the tolerance(stopping criteria), I arbitrarily put this value\n",
    "iter_num = 0\n",
    "\n",
    "while True:\n",
    "    iter_num += 1\n",
    "    for i in range(m):\n",
    "        d0 = np.linalg.norm(X[i,:] - mu[0,:],2) # use 2-norm(Euclidean Distance) as a distance measure\n",
    "        d1 = np.linalg.norm(X[i,:] - mu[1,:],2)\n",
    "        d2 = np.linalg.norm(X[i,:] - mu[2,:],2)\n",
    "\n",
    "        y[i] = np.argmin([d0, d1, d2]) # Choose the closest cluster\n",
    "    \n",
    "    err = 0\n",
    "    for i in range(k): # Calculate the error\n",
    "        mu[i,:] = np.mean(X[np.where(y == i)[0]], axis=0)\n",
    "        err += np.linalg.norm(pre_mu[i,:] - mu[i,:],2)\n",
    "    \n",
    "    pre_mu = mu.copy()\n",
    "    \n",
    "    if err < tolerance:\n",
    "        print(\"Iteration:\", iter_num) # if stopping criteria is satisfied, break the loop and print iteration number\n",
    "        break\n",
    "        \n",
    "    if iter_num > 9999:\n",
    "        break"
   ]
  },
  {
   "cell_type": "code",
   "execution_count": 8,
   "metadata": {
    "scrolled": false
   },
   "outputs": [
    {
     "data": {
      "text/html": [
       "<iframe id=\"igraph\" scrolling=\"no\" style=\"border:none;\" seamless=\"seamless\" src=\"https://plot.ly/~wnsvy1994/64.embed\" height=\"525px\" width=\"100%\"></iframe>"
      ],
      "text/plain": [
       "<plotly.tools.PlotlyDisplay object>"
      ]
     },
     "execution_count": 8,
     "metadata": {},
     "output_type": "execute_result"
    }
   ],
   "source": [
    "color_list = ['rgba(0, 230, 138, .9)','rgba(255, 102, 102, .9)', 'rgba(51, 133, 255, .9)' ]\n",
    "\n",
    "data = []\n",
    "for i in np.arange(3):\n",
    "    trace = go.Scatter(\n",
    "        x = X[np.where(y==i)[0]][:,0],\n",
    "        y = X[np.where(y==i)[0]][:,1],\n",
    "        name = 'Cluster_' + str(i+1),\n",
    "        mode = 'markers',\n",
    "        marker = dict(\n",
    "            size = 10,\n",
    "            color = color_list[i],\n",
    "        )\n",
    "    )\n",
    "    data.append(trace)\n",
    "\n",
    "fig = dict(data=data)\n",
    "py.iplot(fig, filename='clustering_result')"
   ]
  },
  {
   "cell_type": "markdown",
   "metadata": {},
   "source": [
    "<img src = \"https://trello-attachments.s3.amazonaws.com/5b29ec749cfb0d90ada47d03/5beed95bfb72bb45f20889bf/787384a3900ab13599ca581d0046cbc2/image.png\">"
   ]
  },
  {
   "cell_type": "markdown",
   "metadata": {},
   "source": [
    "### Making the function for arbitrary k"
   ]
  },
  {
   "cell_type": "code",
   "execution_count": 126,
   "metadata": {},
   "outputs": [],
   "source": [
    "def k_means(X,k):\n",
    "    m = X.shape[0]\n",
    "\n",
    "    # ramdomly initialize mean points\n",
    "    mu = X[np.random.randint(0,m,k),:]\n",
    "    pre_mu = mu.copy()\n",
    "    y = np.empty([m,1])\n",
    "    tolerance = 1e-15 # Setting the tolerance(stopping criteria), I arbitrarily put this value\n",
    "    iter_num = 0\n",
    "\n",
    "    while True:\n",
    "        iter_num += 1\n",
    "        for i in range(m):\n",
    "            distance = []\n",
    "            for j in range(k):\n",
    "                distance.append(np.linalg.norm(X[i,:] - mu[j,:],2)) # use 2-norm(Euclidean Distance) as a distance measure\n",
    "            y[i] = np.argmin(distance) # Choose the closest cluster\n",
    "\n",
    "        err = 0\n",
    "        for i in range(k): # Calculate the error\n",
    "            mu[i,:] = np.mean(X[np.where(y == i)[0]], axis=0)\n",
    "            err += np.linalg.norm(pre_mu[i,:] - mu[i,:],2)\n",
    "\n",
    "        pre_mu = mu.copy()\n",
    "\n",
    "        if err < tolerance:\n",
    "            print(\"Iteration:\", iter_num) # if stopping criteria is satisfied, break the loop and print iteration number\n",
    "            data = []\n",
    "            for i in np.arange(k):\n",
    "                trace = go.Scatter(\n",
    "                    x = X[np.where(y==i)[0]][:,0],\n",
    "                    y = X[np.where(y==i)[0]][:,1],\n",
    "                    name = 'Cluster_' + str(i+1),\n",
    "                    mode = 'markers',\n",
    "                    marker = dict(\n",
    "                        size = 10,\n",
    "                    )\n",
    "                )\n",
    "                data.append(trace)\n",
    "            \n",
    "            jagota_measure=0\n",
    "            y = pd.Series(y[:,0])\n",
    "            for i in range(m): # calculating Jagota Measure(Q measure)\n",
    "                num = len(y.where(y==y[i]).dropna())\n",
    "                jagota_measure += np.linalg.norm(X[i,:] - mu[int(y[i]),:],2) / num\n",
    "            \n",
    "            fig = dict(data=data)\n",
    "            return(fig,jagota_measure)\n",
    "            \n",
    "            break\n",
    "\n",
    "        if iter_num > 9999:\n",
    "            break   "
   ]
  },
  {
   "cell_type": "markdown",
   "metadata": {},
   "source": [
    "### Result for k=3"
   ]
  },
  {
   "cell_type": "code",
   "execution_count": 132,
   "metadata": {},
   "outputs": [
    {
     "name": "stdout",
     "output_type": "stream",
     "text": [
      "Iteration: 8\n"
     ]
    },
    {
     "data": {
      "text/html": [
       "<iframe id=\"igraph\" scrolling=\"no\" style=\"border:none;\" seamless=\"seamless\" src=\"https://plot.ly/~wnsvy1994/58.embed\" height=\"525px\" width=\"100%\"></iframe>"
      ],
      "text/plain": [
       "<plotly.tools.PlotlyDisplay object>"
      ]
     },
     "execution_count": 132,
     "metadata": {},
     "output_type": "execute_result"
    }
   ],
   "source": [
    "py.iplot(k_means(X,3)[0])"
   ]
  },
  {
   "cell_type": "markdown",
   "metadata": {},
   "source": [
    "<img src = \"https://trello-attachments.s3.amazonaws.com/5b29ec749cfb0d90ada47d03/5beed95bfb72bb45f20889bf/e7ee130f53ae3d547b7453a14517a113/image.png\">"
   ]
  },
  {
   "cell_type": "markdown",
   "metadata": {},
   "source": [
    "Jagota Measure for k=3"
   ]
  },
  {
   "cell_type": "code",
   "execution_count": 130,
   "metadata": {},
   "outputs": [
    {
     "name": "stdout",
     "output_type": "stream",
     "text": [
      "Iteration: 10\n"
     ]
    },
    {
     "data": {
      "text/plain": [
       "1.2582208225490474"
      ]
     },
     "execution_count": 130,
     "metadata": {},
     "output_type": "execute_result"
    }
   ],
   "source": [
    "k_means(X,3)[1]"
   ]
  },
  {
   "cell_type": "markdown",
   "metadata": {},
   "source": [
    "### Result for k=5"
   ]
  },
  {
   "cell_type": "code",
   "execution_count": 98,
   "metadata": {},
   "outputs": [
    {
     "name": "stdout",
     "output_type": "stream",
     "text": [
      "Iteration: 7\n"
     ]
    },
    {
     "data": {
      "text/html": [
       "<iframe id=\"igraph\" scrolling=\"no\" style=\"border:none;\" seamless=\"seamless\" src=\"https://plot.ly/~wnsvy1994/56.embed\" height=\"525px\" width=\"100%\"></iframe>"
      ],
      "text/plain": [
       "<plotly.tools.PlotlyDisplay object>"
      ]
     },
     "execution_count": 98,
     "metadata": {},
     "output_type": "execute_result"
    }
   ],
   "source": [
    "py.iplot(k_means(X,5))"
   ]
  },
  {
   "cell_type": "markdown",
   "metadata": {},
   "source": [
    "<img src = \"https://trello-attachments.s3.amazonaws.com/5b29ec749cfb0d90ada47d03/5beed95bfb72bb45f20889bf/ed61d37dfcb38beb5b9a24569ffae079/image.png\">"
   ]
  },
  {
   "cell_type": "markdown",
   "metadata": {},
   "source": [
    "Jagota Measure for k=5"
   ]
  },
  {
   "cell_type": "code",
   "execution_count": 168,
   "metadata": {},
   "outputs": [
    {
     "name": "stdout",
     "output_type": "stream",
     "text": [
      "Iteration: 7\n"
     ]
    },
    {
     "data": {
      "text/plain": [
       "1.7060376729133013"
      ]
     },
     "execution_count": 168,
     "metadata": {},
     "output_type": "execute_result"
    }
   ],
   "source": [
    "k_means(X,5)[1]"
   ]
  },
  {
   "cell_type": "markdown",
   "metadata": {},
   "source": [
    "### Plot Q measure for different k"
   ]
  },
  {
   "cell_type": "code",
   "execution_count": 161,
   "metadata": {},
   "outputs": [
    {
     "name": "stdout",
     "output_type": "stream",
     "text": [
      "Iteration: 8\n",
      "Iteration: 9\n",
      "Iteration: 7\n",
      "Iteration: 12\n",
      "Iteration: 8\n",
      "Iteration: 8\n"
     ]
    }
   ],
   "source": [
    "x = np.arange(6)+2\n",
    "y = []\n",
    "for k in x:\n",
    "    y.append(k_means(X,k)[1])      "
   ]
  },
  {
   "cell_type": "code",
   "execution_count": 167,
   "metadata": {},
   "outputs": [
    {
     "data": {
      "image/png": "[encoded data removed]",
      "text/plain": [
       "<matplotlib.figure.Figure at 0x1efe97e5550>"
      ]
     },
     "metadata": {},
     "output_type": "display_data"
    }
   ],
   "source": [
    "plt.figure(figsize=(14,7))\n",
    "plt.title('Q measure for k-means clustering')\n",
    "plt.xlabel('k')\n",
    "plt.ylabel('Jagota Measure(=Q)')\n",
    "plt.plot(x,y)\n",
    "plt.show()"
   ]
  },
  {
   "cell_type": "code",
   "execution_count": null,
   "metadata": {},
   "outputs": [],
   "source": []
  }
 ],
 "metadata": {
  "kernelspec": {
   "display_name": "Python 3",
   "language": "python",
   "name": "python3"
  },
  "language_info": {
   "codemirror_mode": {
    "name": "ipython",
    "version": 3
   },
   "file_extension": ".py",
   "mimetype": "text/x-python",
   "name": "python",
   "nbconvert_exporter": "python",
   "pygments_lexer": "ipython3",
   "version": "3.6.1"
  }
 },
 "nbformat": 4,
 "nbformat_minor": 2
}

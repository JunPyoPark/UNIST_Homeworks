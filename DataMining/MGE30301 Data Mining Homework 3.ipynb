{
 "cells": [
  {
   "cell_type": "markdown",
   "metadata": {},
   "source": [
    "# DataMining Homework 3"
   ]
  },
  {
   "cell_type": "code",
   "execution_count": 6,
   "metadata": {},
   "outputs": [],
   "source": [
    "import numpy as np\n",
    "from scipy import stats"
   ]
  },
  {
   "cell_type": "markdown",
   "metadata": {},
   "source": [
    "## Problem 1"
   ]
  },
  {
   "cell_type": "markdown",
   "metadata": {},
   "source": [
    "Construct the matrix from data"
   ]
  },
  {
   "cell_type": "code",
   "execution_count": 3,
   "metadata": {},
   "outputs": [
    {
     "data": {
      "text/plain": [
       "matrix([[ 1.  , 26.7 ,  1.14],\n",
       "        [ 1.  , 26.9 ,  1.41],\n",
       "        [ 1.  , 27.6 ,  1.13],\n",
       "        [ 1.  , 26.9 ,  1.37],\n",
       "        [ 1.  , 27.2 ,  1.14],\n",
       "        [ 1.  , 27.  ,  1.26],\n",
       "        [ 1.  , 26.2 ,  1.28]])"
      ]
     },
     "execution_count": 3,
     "metadata": {},
     "output_type": "execute_result"
    }
   ],
   "source": [
    "x = [[1,1,1,1,1,1,1],[26.7,26.9,27.6,26.9,27.2,27.0,26.2],[1.14,1.41,1.13,1.37,1.14,1.26,1.28]]\n",
    "x = np.matrix(x).T\n",
    "x"
   ]
  },
  {
   "cell_type": "code",
   "execution_count": 4,
   "metadata": {},
   "outputs": [
    {
     "data": {
      "text/plain": [
       "matrix([[87.8],\n",
       "        [87. ],\n",
       "        [88. ],\n",
       "        [87.1],\n",
       "        [87.9],\n",
       "        [87. ],\n",
       "        [88. ]])"
      ]
     },
     "execution_count": 4,
     "metadata": {},
     "output_type": "execute_result"
    }
   ],
   "source": [
    "y = np.matrix([87.8, 87, 88, 87.1, 87.9, 87, 88])\n",
    "y = y.T\n",
    "y"
   ]
  },
  {
   "cell_type": "markdown",
   "metadata": {},
   "source": [
    "Using the formula \\\\( \\hat\\beta = (X^{T}X)^{-1}X^{T}y\\\\) <br>\n",
    "Calculate estimate beta "
   ]
  },
  {
   "cell_type": "code",
   "execution_count": 5,
   "metadata": {},
   "outputs": [
    {
     "data": {
      "text/plain": [
       "matrix([[102.5419763 ],\n",
       "        [ -0.38347545],\n",
       "        [ -3.7467023 ]])"
      ]
     },
     "execution_count": 5,
     "metadata": {},
     "output_type": "execute_result"
    }
   ],
   "source": [
    "#Calculating Beta\n",
    "beta = np.linalg.inv(x.T*x) * x.T * y\n",
    "beta"
   ]
  },
  {
   "cell_type": "code",
   "execution_count": 6,
   "metadata": {},
   "outputs": [
    {
     "data": {
      "text/plain": [
       "matrix([[88.03194106],\n",
       "        [86.94363635],\n",
       "        [87.72428018],\n",
       "        [87.09350445],\n",
       "        [87.84020334],\n",
       "        [87.46729415],\n",
       "        [87.69914047]])"
      ]
     },
     "execution_count": 6,
     "metadata": {},
     "output_type": "execute_result"
    }
   ],
   "source": [
    "x * beta"
   ]
  },
  {
   "cell_type": "markdown",
   "metadata": {},
   "source": [
    "Calculating estimate variance"
   ]
  },
  {
   "cell_type": "code",
   "execution_count": 7,
   "metadata": {},
   "outputs": [
    {
     "data": {
      "text/plain": [
       "matrix([[-0.23194106],\n",
       "        [ 0.05636365],\n",
       "        [ 0.27571982],\n",
       "        [ 0.00649555],\n",
       "        [ 0.05979666],\n",
       "        [-0.46729415],\n",
       "        [ 0.30085953]])"
      ]
     },
     "execution_count": 7,
     "metadata": {},
     "output_type": "execute_result"
    }
   ],
   "source": [
    "residual = y - x * beta\n",
    "residual"
   ]
  },
  {
   "cell_type": "code",
   "execution_count": 8,
   "metadata": {},
   "outputs": [
    {
     "data": {
      "text/plain": [
       "matrix([[0.44549305]])"
      ]
     },
     "execution_count": 8,
     "metadata": {},
     "output_type": "execute_result"
    }
   ],
   "source": [
    "SSE = residual.T * residual\n",
    "SSE"
   ]
  },
  {
   "cell_type": "code",
   "execution_count": 9,
   "metadata": {},
   "outputs": [
    {
     "data": {
      "text/plain": [
       "matrix([[0.11137326]])"
      ]
     },
     "execution_count": 9,
     "metadata": {},
     "output_type": "execute_result"
    }
   ],
   "source": [
    "df = 7-3\n",
    "estimate_var = SSE / df\n",
    "estimate_var"
   ]
  },
  {
   "cell_type": "code",
   "execution_count": 16,
   "metadata": {
    "scrolled": true
   },
   "outputs": [
    {
     "data": {
      "text/plain": [
       "matrix([[888.41039039, -30.24486693, -59.18846697],\n",
       "        [-30.24486693,   1.05299588,   1.51481626],\n",
       "        [-59.18846697,   1.51481626,  14.75101981]])"
      ]
     },
     "execution_count": 16,
     "metadata": {},
     "output_type": "execute_result"
    }
   ],
   "source": [
    "C = np.linalg.inv(x.T * x)\n",
    "C"
   ]
  },
  {
   "cell_type": "markdown",
   "metadata": {},
   "source": [
    "Calculating standard error for each regression coefficients"
   ]
  },
  {
   "cell_type": "code",
   "execution_count": 20,
   "metadata": {},
   "outputs": [
    {
     "data": {
      "text/plain": [
       "matrix([[9.94711839]])"
      ]
     },
     "execution_count": 20,
     "metadata": {},
     "output_type": "execute_result"
    }
   ],
   "source": [
    "se_beta0 = estimate_var * C[0,0]\n",
    "se_beta0 = np.sqrt(se_beta0)\n",
    "se_beta0"
   ]
  },
  {
   "cell_type": "code",
   "execution_count": 21,
   "metadata": {},
   "outputs": [
    {
     "data": {
      "text/plain": [
       "matrix([[0.34245523]])"
      ]
     },
     "execution_count": 21,
     "metadata": {},
     "output_type": "execute_result"
    }
   ],
   "source": [
    "se_beta1 = estimate_var * C[1,1]\n",
    "se_beta1 = np.sqrt(se_beta1)\n",
    "se_beta1"
   ]
  },
  {
   "cell_type": "code",
   "execution_count": 22,
   "metadata": {},
   "outputs": [
    {
     "data": {
      "text/plain": [
       "matrix([[1.2817446]])"
      ]
     },
     "execution_count": 22,
     "metadata": {},
     "output_type": "execute_result"
    }
   ],
   "source": [
    "se_beta2 = estimate_var * C[2,2]\n",
    "se_beta2 = np.sqrt(se_beta2)\n",
    "se_beta2"
   ]
  },
  {
   "cell_type": "markdown",
   "metadata": {},
   "source": [
    "Perform a t-test for each regression coefficient"
   ]
  },
  {
   "cell_type": "code",
   "execution_count": 23,
   "metadata": {},
   "outputs": [],
   "source": [
    "from scipy import stats"
   ]
  },
  {
   "cell_type": "code",
   "execution_count": 24,
   "metadata": {},
   "outputs": [],
   "source": [
    "beta_1 = beta[1,0]\n",
    "beta_2 = beta[2,0]"
   ]
  },
  {
   "cell_type": "code",
   "execution_count": 25,
   "metadata": {},
   "outputs": [],
   "source": [
    "t_1 = beta_1 / se_beta1\n",
    "t_2 = beta_2 / se_beta2"
   ]
  },
  {
   "cell_type": "code",
   "execution_count": 26,
   "metadata": {},
   "outputs": [
    {
     "data": {
      "text/plain": [
       "matrix([[-1.11978272]])"
      ]
     },
     "execution_count": 26,
     "metadata": {},
     "output_type": "execute_result"
    }
   ],
   "source": [
    "t_1"
   ]
  },
  {
   "cell_type": "code",
   "execution_count": 27,
   "metadata": {},
   "outputs": [
    {
     "data": {
      "text/plain": [
       "matrix([[-2.92312705]])"
      ]
     },
     "execution_count": 27,
     "metadata": {},
     "output_type": "execute_result"
    }
   ],
   "source": [
    "t_2"
   ]
  },
  {
   "cell_type": "code",
   "execution_count": 28,
   "metadata": {},
   "outputs": [
    {
     "data": {
      "text/plain": [
       "(-2.7764451051977987, 2.7764451051977987)"
      ]
     },
     "execution_count": 28,
     "metadata": {},
     "output_type": "execute_result"
    }
   ],
   "source": [
    "stats.t.interval(0.95,df=df)"
   ]
  },
  {
   "cell_type": "code",
   "execution_count": 29,
   "metadata": {},
   "outputs": [
    {
     "data": {
      "text/plain": [
       "2.7764451051977987"
      ]
     },
     "execution_count": 29,
     "metadata": {},
     "output_type": "execute_result"
    }
   ],
   "source": [
    "stats.t.ppf(0.975, df=df)"
   ]
  },
  {
   "cell_type": "markdown",
   "metadata": {},
   "source": [
    "Here t_1 < 2.77644 we can not reject the null hypothesis \\\\(H_0 : \\beta_1 = 0 \\\\)"
   ]
  },
  {
   "cell_type": "markdown",
   "metadata": {},
   "source": [
    "In case of \\\\(\\beta_2 , \\ \\   t_2 < -2.77644\\\\), we can reject the null hypothesis which states, \\\\(H_0 : \\beta_2 = 0 \\\\)"
   ]
  },
  {
   "attachments": {},
   "cell_type": "markdown",
   "metadata": {},
   "source": [
    "<img src = \"https://trello-attachments.s3.amazonaws.com/5b29ec749cfb0d90ada47d03/5beedd5582101b1b17d77423/ad6b035acd8f46d2971dbbfaa09b4b35/image.png\">"
   ]
  },
  {
   "cell_type": "code",
   "execution_count": 30,
   "metadata": {},
   "outputs": [
    {
     "data": {
      "text/plain": [
       "matrix([[0.44549305]])"
      ]
     },
     "execution_count": 30,
     "metadata": {},
     "output_type": "execute_result"
    }
   ],
   "source": [
    "SSE"
   ]
  },
  {
   "cell_type": "code",
   "execution_count": 31,
   "metadata": {},
   "outputs": [
    {
     "data": {
      "text/plain": [
       "matrix([[1.39714286]])"
      ]
     },
     "execution_count": 31,
     "metadata": {},
     "output_type": "execute_result"
    }
   ],
   "source": [
    "SST = (y - y.mean()).T * (y - y.mean())\n",
    "SST"
   ]
  },
  {
   "cell_type": "code",
   "execution_count": 32,
   "metadata": {},
   "outputs": [
    {
     "data": {
      "text/plain": [
       "matrix([[0.9516498]])"
      ]
     },
     "execution_count": 32,
     "metadata": {},
     "output_type": "execute_result"
    }
   ],
   "source": [
    "SSR = SST - SSE\n",
    "SSR"
   ]
  },
  {
   "cell_type": "code",
   "execution_count": 33,
   "metadata": {},
   "outputs": [
    {
     "data": {
      "text/plain": [
       "matrix([[0.4758249]])"
      ]
     },
     "execution_count": 33,
     "metadata": {},
     "output_type": "execute_result"
    }
   ],
   "source": [
    "# 2 : number of predictor varible\n",
    "MSR = SSR / 2\n",
    "MSR"
   ]
  },
  {
   "cell_type": "code",
   "execution_count": 34,
   "metadata": {},
   "outputs": [
    {
     "data": {
      "text/plain": [
       "matrix([[0.11137326]])"
      ]
     },
     "execution_count": 34,
     "metadata": {},
     "output_type": "execute_result"
    }
   ],
   "source": [
    "# 4 : 7 - (2+1)\n",
    "MSE = SSE / 4\n",
    "MSE"
   ]
  },
  {
   "cell_type": "code",
   "execution_count": 35,
   "metadata": {},
   "outputs": [
    {
     "data": {
      "text/plain": [
       "matrix([[4.27234408]])"
      ]
     },
     "execution_count": 35,
     "metadata": {},
     "output_type": "execute_result"
    }
   ],
   "source": [
    "F = MSR / MSE\n",
    "F"
   ]
  },
  {
   "cell_type": "markdown",
   "metadata": {},
   "source": [
    "ppf : Percent point function (inverse of cdf — percentiles)."
   ]
  },
  {
   "cell_type": "code",
   "execution_count": 36,
   "metadata": {},
   "outputs": [
    {
     "data": {
      "text/plain": [
       "6.944271909999155"
      ]
     },
     "execution_count": 36,
     "metadata": {},
     "output_type": "execute_result"
    }
   ],
   "source": [
    "stats.f.ppf(0.95, 2, 4)"
   ]
  },
  {
   "attachments": {},
   "cell_type": "markdown",
   "metadata": {},
   "source": [
    "<img src = \"https://trello-attachments.s3.amazonaws.com/5b29ec749cfb0d90ada47d03/5beedd5582101b1b17d77423/cf743a41b3c38c2804209d389950ce16/image.png\">"
   ]
  },
  {
   "cell_type": "code",
   "execution_count": 37,
   "metadata": {},
   "outputs": [
    {
     "data": {
      "text/plain": [
       "matrix([[0.68113994]])"
      ]
     },
     "execution_count": 37,
     "metadata": {},
     "output_type": "execute_result"
    }
   ],
   "source": [
    "R_square = SSR/SST\n",
    "R_square"
   ]
  },
  {
   "cell_type": "markdown",
   "metadata": {},
   "source": [
    "\\\\({R}^{2}= 0.68113994 \\\\)"
   ]
  },
  {
   "cell_type": "markdown",
   "metadata": {},
   "source": [
    "Since F=4.2723 < 6.94427 we can not reject the null_hypothesis"
   ]
  },
  {
   "cell_type": "markdown",
   "metadata": {
    "collapsed": true
   },
   "source": [
    "## Problem 2"
   ]
  },
  {
   "attachments": {},
   "cell_type": "markdown",
   "metadata": {},
   "source": [
    "<img src = \"https://trello-attachments.s3.amazonaws.com/5b29ec749cfb0d90ada47d03/5beedd5582101b1b17d77423/73dd1061dee00413f9b94c1156ef5bd6/image.png\">"
   ]
  },
  {
   "attachments": {},
   "cell_type": "markdown",
   "metadata": {},
   "source": [
    "<img src = \"https://trello-attachments.s3.amazonaws.com/5b29ec749cfb0d90ada47d03/5beedd5582101b1b17d77423/474bd92600480b7e22ed9f90578a419c/image.png\">"
   ]
  },
  {
   "cell_type": "markdown",
   "metadata": {},
   "source": [
    "### (A) Done"
   ]
  },
  {
   "cell_type": "markdown",
   "metadata": {},
   "source": [
    "### (B)  \\\\({R}^{2}= \\frac{SSR}{SST} = \\frac{233.6}{835.97} = 0.27943586 \\\\)"
   ]
  },
  {
   "cell_type": "code",
   "execution_count": 32,
   "metadata": {},
   "outputs": [
    {
     "data": {
      "text/plain": [
       "0.2794358649233824"
      ]
     },
     "execution_count": 32,
     "metadata": {},
     "output_type": "execute_result"
    }
   ],
   "source": [
    "233.6/835.97"
   ]
  },
  {
   "cell_type": "markdown",
   "metadata": {},
   "source": [
    "### (C)\tTest for the regression model at the significance level of 1%."
   ]
  },
  {
   "cell_type": "code",
   "execution_count": 33,
   "metadata": {},
   "outputs": [
    {
     "data": {
      "text/plain": [
       "3.4205017271207225"
      ]
     },
     "execution_count": 33,
     "metadata": {},
     "output_type": "execute_result"
    }
   ],
   "source": [
    "stats.f.ppf(0.99, 4, 188)"
   ]
  },
  {
   "cell_type": "markdown",
   "metadata": {},
   "source": [
    "Since 3.4205 < 18.2272 = F-Value, we can reject the null hypothesis \\\\(H_0 \\\\)"
   ]
  },
  {
   "cell_type": "markdown",
   "metadata": {},
   "source": [
    "Where \\\\(H_0 : \\beta_1 = \\beta_2 = \\beta_3 = \\beta_4 = 0\\\\)"
   ]
  },
  {
   "cell_type": "markdown",
   "metadata": {},
   "source": [
    "### (D)\tWhich regression coefficient is significant at the significance level of 1%?"
   ]
  },
  {
   "cell_type": "markdown",
   "metadata": {},
   "source": [
    "We can select the parameter whose p-value is less than 0.01"
   ]
  },
  {
   "cell_type": "markdown",
   "metadata": {},
   "source": [
    "Answer is A and D"
   ]
  },
  {
   "cell_type": "markdown",
   "metadata": {},
   "source": [
    "### (E)\tObtain the confidence interval of the regression coefficient of A at the significance level of 5%."
   ]
  },
  {
   "attachments": {},
   "cell_type": "markdown",
   "metadata": {},
   "source": [
    "<img src = \"https://trello-attachments.s3.amazonaws.com/5b29ec749cfb0d90ada47d03/5beedd5582101b1b17d77423/41ee87f3aef815aa68f55ba1081e5825/image.png\">"
   ]
  },
  {
   "cell_type": "code",
   "execution_count": 14,
   "metadata": {},
   "outputs": [
    {
     "data": {
      "text/plain": [
       "1.9726626923781652"
      ]
     },
     "execution_count": 14,
     "metadata": {},
     "output_type": "execute_result"
    }
   ],
   "source": [
    "t = stats.t.ppf(0.975,188)\n",
    "t"
   ]
  },
  {
   "cell_type": "code",
   "execution_count": 15,
   "metadata": {},
   "outputs": [
    {
     "name": "stdout",
     "output_type": "stream",
     "text": [
      "The 95% confidence interval for coefficient of A\n",
      "( -0.023389874415720067 , -0.004610125584279933 )\n"
     ]
    }
   ],
   "source": [
    "print('The 95% confidence interval for coefficient of A')\n",
    "print('(', -0.014 - t * 0.00476, ',', -0.014 + t * 0.00476, ')')"
   ]
  },
  {
   "cell_type": "markdown",
   "metadata": {},
   "source": [
    "### (F) Estimate the response value at A=546, B=765, C=730, D=12"
   ]
  },
  {
   "attachments": {},
   "cell_type": "markdown",
   "metadata": {},
   "source": [
    "<img src = \"https://trello-attachments.s3.amazonaws.com/5b29ec749cfb0d90ada47d03/5beedd5582101b1b17d77423/194a8e75beffde5b4701b01a179debcf/image.png\">"
   ]
  },
  {
   "cell_type": "markdown",
   "metadata": {},
   "source": [
    "If we know the data set information, we can get the \\\\(100(1-\\alpha) \\\\) confidence interval for the response value using above formula, but in here, we don't have that information so we could not calculate \\\\(V=(X^{T}X)^{-1} \\\\)"
   ]
  },
  {
   "cell_type": "code",
   "execution_count": 40,
   "metadata": {
    "collapsed": true
   },
   "outputs": [],
   "source": [
    "coef = np.array([78.941, -0.014, 0.012, -0.020, 0.584])"
   ]
  },
  {
   "cell_type": "code",
   "execution_count": 41,
   "metadata": {
    "collapsed": true
   },
   "outputs": [],
   "source": [
    "data_in = np.array([1, 546, 765, 730, 12])"
   ]
  },
  {
   "cell_type": "code",
   "execution_count": 47,
   "metadata": {},
   "outputs": [
    {
     "data": {
      "text/plain": [
       "72.884999999999991"
      ]
     },
     "execution_count": 47,
     "metadata": {},
     "output_type": "execute_result"
    }
   ],
   "source": [
    "estimate_mean = np.dot(coef, data_in)\n",
    "estimate_mean"
   ]
  },
  {
   "cell_type": "markdown",
   "metadata": {},
   "source": [
    "## Problem 3"
   ]
  },
  {
   "cell_type": "markdown",
   "metadata": {},
   "source": [
    "### (a) calculating p_value"
   ]
  },
  {
   "cell_type": "code",
   "execution_count": 62,
   "metadata": {},
   "outputs": [
    {
     "data": {
      "text/plain": [
       "1.1102230246251565e-16"
      ]
     },
     "execution_count": 62,
     "metadata": {},
     "output_type": "execute_result"
    }
   ],
   "source": [
    "p_value = 1 - stats.f.cdf(298,3,96)\n",
    "p_value"
   ]
  },
  {
   "cell_type": "markdown",
   "metadata": {},
   "source": [
    "### (b)\tTest for the regression coefficients at the significance level of 5%."
   ]
  },
  {
   "attachments": {},
   "cell_type": "markdown",
   "metadata": {},
   "source": [
    "<img src = \"https://trello-attachments.s3.amazonaws.com/5b29ec749cfb0d90ada47d03/5beedd5582101b1b17d77423/13dbe319aa0da6cd19448f59efcb07bf/image.png\">"
   ]
  },
  {
   "cell_type": "markdown",
   "metadata": {},
   "source": [
    "Coefficient for \\\\(C\\\\)"
   ]
  },
  {
   "cell_type": "code",
   "execution_count": 65,
   "metadata": {},
   "outputs": [
    {
     "data": {
      "text/plain": [
       "2.9117612861950803e-06"
      ]
     },
     "execution_count": 65,
     "metadata": {},
     "output_type": "execute_result"
    }
   ],
   "source": [
    "p_value = 1 - stats.t.cdf(4.8,96)\n",
    "p_value"
   ]
  },
  {
   "cell_type": "markdown",
   "metadata": {},
   "source": [
    "- Since p-value is further less than 0.025 we can reject the null hypothesis \\\\(H_0 : \\beta_1 = 0 \\\\)"
   ]
  },
  {
   "cell_type": "markdown",
   "metadata": {},
   "source": [
    "Coefficient for \\\\(Mn \\\\)"
   ]
  },
  {
   "cell_type": "code",
   "execution_count": 66,
   "metadata": {},
   "outputs": [
    {
     "data": {
      "text/plain": [
       "0.056442284972185952"
      ]
     },
     "execution_count": 66,
     "metadata": {},
     "output_type": "execute_result"
    }
   ],
   "source": [
    "p_value = 1 - stats.t.cdf(1.6,96)\n",
    "p_value"
   ]
  },
  {
   "cell_type": "markdown",
   "metadata": {},
   "source": [
    "- Since p-value is larger than 0.025 (two-sided) we can not reject the null hypothesis \\\\(H_0 : \\beta_2 = 0 \\\\)"
   ]
  },
  {
   "cell_type": "markdown",
   "metadata": {},
   "source": [
    "Coefficient for \\\\(CT \\\\)"
   ]
  },
  {
   "cell_type": "code",
   "execution_count": 10,
   "metadata": {},
   "outputs": [
    {
     "data": {
      "text/plain": [
       "0.0009315631847482069"
      ]
     },
     "execution_count": 10,
     "metadata": {},
     "output_type": "execute_result"
    }
   ],
   "source": [
    "p_value = stats.t.cdf(-3.2,96)\n",
    "p_value"
   ]
  },
  {
   "cell_type": "markdown",
   "metadata": {},
   "source": [
    "- Since p-value is less than 0.025 we can reject the null hypothesis \\\\(H_0 : \\beta_3 = 0 \\\\)"
   ]
  },
  {
   "cell_type": "markdown",
   "metadata": {},
   "source": [
    "### (C) Obtain the 95% confidence interval of the regression coefficient of CT."
   ]
  },
  {
   "cell_type": "markdown",
   "metadata": {},
   "source": [
    "From the equation \\\\(t_{value}= \\frac{\\hat\\beta_j - 0}{SE(\\hat\\beta_j)}, \\ \\ SE(\\hat\\beta_3) = 0.0046875 \\\\)"
   ]
  },
  {
   "cell_type": "code",
   "execution_count": 13,
   "metadata": {},
   "outputs": [
    {
     "data": {
      "text/plain": [
       "1.984984311431769"
      ]
     },
     "execution_count": 13,
     "metadata": {},
     "output_type": "execute_result"
    }
   ],
   "source": [
    "t = stats.t.ppf(0.975,96)\n",
    "t"
   ]
  },
  {
   "cell_type": "code",
   "execution_count": 41,
   "metadata": {},
   "outputs": [
    {
     "name": "stdout",
     "output_type": "stream",
     "text": [
      "The 95% confidence interval for coefficient of CT\n",
      "( -0.02324685637052265 , -0.004753143629477352 )\n"
     ]
    }
   ],
   "source": [
    "print('The 95% confidence interval for coefficient of CT')\n",
    "print('(', -0.014 - t * 0.0046875, ',', -0.014 + t * 0.0046875, ')')"
   ]
  },
  {
   "cell_type": "markdown",
   "metadata": {},
   "source": [
    "### (D) Assuming that the regression coefficient of C is β_1, test the following at the significance level 5%."
   ]
  },
  {
   "cell_type": "markdown",
   "metadata": {},
   "source": [
    "\\\\(H_0 : \\beta_1 = 80 \\\\) <br>\n",
    "\\\\(H_1 : \\beta_1 \\not= 80 \\\\)"
   ]
  },
  {
   "cell_type": "markdown",
   "metadata": {},
   "source": [
    "From the equation \\\\(t_{value}= \\frac{\\hat\\beta_j - 0}{SE(\\hat\\beta_j)}, \\ \\ SE(\\hat\\beta_1) = 17.5417 \\\\)"
   ]
  },
  {
   "cell_type": "markdown",
   "metadata": {
    "collapsed": true
   },
   "source": [
    "New t value for this hypothesis is \\\\(t = \\frac{\\hat\\beta_1 - 80}{SE(\\hat\\beta_1)} = 0.2394\\\\)"
   ]
  },
  {
   "cell_type": "code",
   "execution_count": 69,
   "metadata": {},
   "outputs": [
    {
     "data": {
      "text/plain": [
       "0.40565290504997686"
      ]
     },
     "execution_count": 69,
     "metadata": {},
     "output_type": "execute_result"
    }
   ],
   "source": [
    "p_value = 1 - stats.t.cdf(0.2394,96)\n",
    "p_value"
   ]
  },
  {
   "cell_type": "markdown",
   "metadata": {},
   "source": [
    "- Since p-value is larger than 0.025 we can not reject the null hypythesis \\\\(H_0 : \\beta_1 = 80 \\\\)"
   ]
  },
  {
   "cell_type": "markdown",
   "metadata": {},
   "source": [
    "## Problem 4"
   ]
  },
  {
   "attachments": {},
   "cell_type": "markdown",
   "metadata": {},
   "source": [
    "<img src = \"https://trello-attachments.s3.amazonaws.com/5b29ec749cfb0d90ada47d03/5beedd5582101b1b17d77423/4aed82ec00f3aff8481acf5b7fe87db5/image.png\">"
   ]
  },
  {
   "attachments": {},
   "cell_type": "markdown",
   "metadata": {},
   "source": [
    "<img src = \"https://trello-attachments.s3.amazonaws.com/5b29ec749cfb0d90ada47d03/5beedd5582101b1b17d77423/6bf18a74ccbdbf7208aafde7c667ac8f/image.png\">"
   ]
  },
  {
   "attachments": {},
   "cell_type": "markdown",
   "metadata": {},
   "source": [
    "<img src = \"https://trello-attachments.s3.amazonaws.com/5b29ec749cfb0d90ada47d03/5beedd5582101b1b17d77423/a1065e65a9a712454133c071e21aa2c4/image.png\">"
   ]
  },
  {
   "cell_type": "markdown",
   "metadata": {},
   "source": [
    "Put all informations to calculating F-value"
   ]
  },
  {
   "cell_type": "code",
   "execution_count": 71,
   "metadata": {},
   "outputs": [
    {
     "data": {
      "text/plain": [
       "1.2523121010811535"
      ]
     },
     "execution_count": 71,
     "metadata": {},
     "output_type": "execute_result"
    }
   ],
   "source": [
    "F = ((315.44 - 307.08) / 2) / (307.08/(92))\n",
    "F"
   ]
  },
  {
   "cell_type": "markdown",
   "metadata": {},
   "source": [
    "Perform F-Test"
   ]
  },
  {
   "cell_type": "code",
   "execution_count": 74,
   "metadata": {},
   "outputs": [
    {
     "data": {
      "text/plain": [
       "0.29066940525261187"
      ]
     },
     "execution_count": 74,
     "metadata": {},
     "output_type": "execute_result"
    }
   ],
   "source": [
    "p_value = 1 - stats.f.cdf(F,2,92)\n",
    "p_value"
   ]
  },
  {
   "cell_type": "markdown",
   "metadata": {},
   "source": [
    "- Since p-value is larger than 0.05 we cannot reject the null hypothesis \\\\(H_0 : \\beta_3 = \\beta_4 = 0 \\\\) "
   ]
  },
  {
   "cell_type": "markdown",
   "metadata": {
    "collapsed": true
   },
   "source": [
    "## Problem 5"
   ]
  },
  {
   "attachments": {},
   "cell_type": "markdown",
   "metadata": {},
   "source": [
    "<img src = \"https://trello-attachments.s3.amazonaws.com/5b29ec749cfb0d90ada47d03/5beedd5582101b1b17d77423/c4db295c65e0368a99974b67d6f4f102/image.png\">"
   ]
  },
  {
   "cell_type": "markdown",
   "metadata": {},
   "source": [
    "### (b)\tDetermine whether the regression coefficient of cooling water temperature is 1.0 at the significance level of 5%"
   ]
  },
  {
   "cell_type": "markdown",
   "metadata": {},
   "source": [
    "Let \\\\(\\beta_2 \\\\) be the coefficient of colling water tempaerature. Then we can perform following hypothesis test."
   ]
  },
  {
   "cell_type": "markdown",
   "metadata": {},
   "source": [
    "\\\\(H_0 : \\beta_2 = 1 \\\\) <br>\n",
    "\\\\(H_1 : \\beta_2 \\not= 1 \\\\)"
   ]
  },
  {
   "cell_type": "code",
   "execution_count": 38,
   "metadata": {},
   "outputs": [
    {
     "data": {
      "text/plain": [
       "0.3679829545454545"
      ]
     },
     "execution_count": 38,
     "metadata": {},
     "output_type": "execute_result"
    }
   ],
   "source": [
    "1.2953/3.52"
   ]
  },
  {
   "cell_type": "markdown",
   "metadata": {},
   "source": [
    "From the equation \\\\(t_{value}= \\frac{\\hat\\beta_2 - 0}{SE(\\hat\\beta_2)}, \\ \\ SE(\\hat\\beta_2) = 0.368 \\\\)"
   ]
  },
  {
   "cell_type": "code",
   "execution_count": 39,
   "metadata": {},
   "outputs": [
    {
     "data": {
      "text/plain": [
       "0.8024456521739131"
      ]
     },
     "execution_count": 39,
     "metadata": {},
     "output_type": "execute_result"
    }
   ],
   "source": [
    "0.2953/ 0.368"
   ]
  },
  {
   "cell_type": "markdown",
   "metadata": {},
   "source": [
    "New t value for this hypothesis is \\\\(t = \\frac{\\hat\\beta_2 - 1}{SE(\\hat\\beta_2)} = 0.8024\\\\)"
   ]
  },
  {
   "cell_type": "code",
   "execution_count": 8,
   "metadata": {},
   "outputs": [
    {
     "data": {
      "text/plain": [
       "(-2.1098155778331806, 2.1098155778331806)"
      ]
     },
     "execution_count": 8,
     "metadata": {},
     "output_type": "execute_result"
    }
   ],
   "source": [
    "stats.t.interval(0.95,17)"
   ]
  },
  {
   "cell_type": "markdown",
   "metadata": {},
   "source": [
    "Since, new \\\\(t=0.8024\\\\) is contained in an significance 5% interval, we can not reject the hypothesis \\\\(H_0 : \\beta_2 = 1 \\\\)"
   ]
  },
  {
   "cell_type": "markdown",
   "metadata": {},
   "source": [
    "### (C) ANOVA table"
   ]
  },
  {
   "attachments": {},
   "cell_type": "markdown",
   "metadata": {},
   "source": [
    "<img src = 'https://trello-attachments.s3.amazonaws.com/5b29ec749cfb0d90ada47d03/5beedd5582101b1b17d77423/9b88c5095c2a0753dcdfd57735f3bf1c/image.png'>"
   ]
  },
  {
   "cell_type": "code",
   "execution_count": 3,
   "metadata": {},
   "outputs": [
    {
     "data": {
      "text/plain": [
       "2.8936110174626606e-09"
      ]
     },
     "execution_count": 3,
     "metadata": {},
     "output_type": "execute_result"
    }
   ],
   "source": [
    "p_value = 1- stats.f.cdf(60.225,3,17)\n",
    "p_value"
   ]
  },
  {
   "attachments": {},
   "cell_type": "markdown",
   "metadata": {},
   "source": [
    "<img src = 'https://trello-attachments.s3.amazonaws.com/5b29ec749cfb0d90ada47d03/5beedd5582101b1b17d77423/7a76cd9e5c2f22f632b853528ad0666a/image.png'>"
   ]
  },
  {
   "cell_type": "markdown",
   "metadata": {},
   "source": [
    "## Problem 6"
   ]
  },
  {
   "attachments": {},
   "cell_type": "markdown",
   "metadata": {},
   "source": [
    "<img src = 'https://trello-attachments.s3.amazonaws.com/5b29ec749cfb0d90ada47d03/5beedd5582101b1b17d77423/c212152f380865cc167f4e947e9f1b48/image.png'>"
   ]
  },
  {
   "cell_type": "markdown",
   "metadata": {},
   "source": [
    "### (a)\tFind eigenvalues and eigenvectors for the above matrix."
   ]
  },
  {
   "cell_type": "code",
   "execution_count": 43,
   "metadata": {},
   "outputs": [],
   "source": [
    "import numpy as np"
   ]
  },
  {
   "cell_type": "code",
   "execution_count": 44,
   "metadata": {},
   "outputs": [
    {
     "data": {
      "text/plain": [
       "matrix([[24.8, -7.3, 15.1],\n",
       "        [-7.3, 11.2,  4.6],\n",
       "        [15.1,  4.6, 39.4]])"
      ]
     },
     "execution_count": 44,
     "metadata": {},
     "output_type": "execute_result"
    }
   ],
   "source": [
    "mat = np.matrix([24.8, -7.3, 15.1, -7.3, 11.2, 4.6, 15.1, 4.6, 39.4])\n",
    "mat = mat.reshape(3,3)\n",
    "mat"
   ]
  },
  {
   "cell_type": "code",
   "execution_count": 45,
   "metadata": {},
   "outputs": [],
   "source": [
    "eig_val, eig_vec = np.linalg.eig(mat)"
   ]
  },
  {
   "cell_type": "code",
   "execution_count": 46,
   "metadata": {},
   "outputs": [
    {
     "name": "stdout",
     "output_type": "stream",
     "text": [
      "Eigen Value 1 :  48.872009252072814\n",
      "Corresponding Eigen Vector :  [[-5.31281578e-01 -4.97510157e-04 -8.47195159e-01]]\n",
      "Eigen Value 2 :  22.135848762750303\n",
      "Corresponding Eigen Vector :  [[ 0.66526499 -0.61941643 -0.41682824]]\n",
      "Eigen Value 3 :  4.392141985176856\n",
      "Corresponding Eigen Vector :  [[ 0.52455922  0.78506245 -0.32941551]]\n"
     ]
    }
   ],
   "source": [
    "for i in range(3):\n",
    "    print('Eigen Value ' + str(i+1) + ' : ', eig_val[i])\n",
    "    print('Corresponding Eigen Vector : ', eig_vec[:,i].reshape(3))"
   ]
  },
  {
   "cell_type": "markdown",
   "metadata": {},
   "source": [
    "### (b)\tHow many principal components should be used to account for about 90% of the total variance?"
   ]
  },
  {
   "cell_type": "markdown",
   "metadata": {},
   "source": [
    " If we take two principal components, \\\\(\\frac{\\lambda_1 + \\lambda_2}{\\sum\\lambda}  = 0.9417 > 90\\% \\\\) "
   ]
  },
  {
   "cell_type": "code",
   "execution_count": 39,
   "metadata": {},
   "outputs": [
    {
     "data": {
      "text/plain": [
       "0.9417487800374421"
      ]
     },
     "execution_count": 39,
     "metadata": {},
     "output_type": "execute_result"
    }
   ],
   "source": [
    "(eig_val[0] + eig_val[1]) / eig_val.sum()"
   ]
  },
  {
   "cell_type": "code",
   "execution_count": 40,
   "metadata": {},
   "outputs": [
    {
     "data": {
      "text/plain": [
       "2.6993925975521815"
      ]
     },
     "execution_count": 40,
     "metadata": {},
     "output_type": "execute_result"
    }
   ],
   "source": [
    "stats.f.ppf(0.95,3,96)"
   ]
  },
  {
   "cell_type": "markdown",
   "metadata": {},
   "source": [
    "### (c)\tCompute the correlation coefficient matrix and find corresponding eigenvalues and eigenvectors."
   ]
  },
  {
   "cell_type": "markdown",
   "metadata": {},
   "source": [
    "\\\\( corr(X) = (diag(\\sum))^{-\\frac{1}{2}}\\sum(diag(\\sum))^{-\\frac{1}{2}} \\\\)"
   ]
  },
  {
   "cell_type": "code",
   "execution_count": 70,
   "metadata": {},
   "outputs": [
    {
     "data": {
      "text/plain": [
       "matrix([[0.20080483, 0.        , 0.        ],\n",
       "        [0.        , 0.29880715, 0.        ],\n",
       "        [0.        , 0.        , 0.15931325]])"
      ]
     },
     "execution_count": 70,
     "metadata": {},
     "output_type": "execute_result"
    }
   ],
   "source": [
    "norm = np.diag(np.diag(mat) ** -0.5)\n",
    "norm = np.matrix(norm)\n",
    "norm"
   ]
  },
  {
   "cell_type": "code",
   "execution_count": 71,
   "metadata": {},
   "outputs": [
    {
     "data": {
      "text/plain": [
       "matrix([[ 1.        , -0.43801402,  0.48306213],\n",
       "        [-0.43801402,  1.        ,  0.21897811],\n",
       "        [ 0.48306213,  0.21897811,  1.        ]])"
      ]
     },
     "execution_count": 71,
     "metadata": {},
     "output_type": "execute_result"
    }
   ],
   "source": [
    "corr_mat = norm * mat * norm\n",
    "corr_mat"
   ]
  },
  {
   "cell_type": "code",
   "execution_count": 72,
   "metadata": {},
   "outputs": [],
   "source": [
    "eig_val, eig_vec = np.linalg.eig(corr_mat)"
   ]
  },
  {
   "cell_type": "code",
   "execution_count": 74,
   "metadata": {},
   "outputs": [
    {
     "name": "stdout",
     "output_type": "stream",
     "text": [
      "Eigen Value 1 :  0.22964485457507644\n",
      "Corresponding Eigen Vector :  [[-0.6459921  -0.52485814  0.55427262]]\n",
      "Eigen Value 2 :  1.5527228830503557\n",
      "Corresponding Eigen Vector :  [[-0.76218062  0.40341776 -0.50629519]]\n",
      "Eigen Value 3 :  1.2176322623745688\n",
      "Corresponding Eigen Vector :  [[-0.04212973  0.74951854  0.66064139]]\n"
     ]
    }
   ],
   "source": [
    "for i in range(3):\n",
    "    print('Eigen Value ' + str(i+1) + ' : ', eig_val[i])\n",
    "    print('Corresponding Eigen Vector : ', eig_vec[:,i].reshape(3))"
   ]
  },
  {
   "cell_type": "markdown",
   "metadata": {},
   "source": [
    "## Problem 7"
   ]
  },
  {
   "cell_type": "markdown",
   "metadata": {},
   "source": [
    "### (a)\tEstimate the coefficients in PCR with t1 as an independent variable and determine the coefficient of determination for this model"
   ]
  },
  {
   "cell_type": "code",
   "execution_count": 102,
   "metadata": {},
   "outputs": [],
   "source": [
    "t_1 = np.matrix([72.0693, 49.3127, -14.2052, 70.0119, -14.3851, -6.133, -27.995, -11.6537, \n",
    "       25.1774, -24.4915, -37.2383, -39.1275, -32.7934, -41.8799, 33.3314])\n",
    "t_1 = t_1.T"
   ]
  },
  {
   "cell_type": "code",
   "execution_count": 91,
   "metadata": {},
   "outputs": [],
   "source": [
    "t_2 = np.matrix([29.0359, 28.9586, 18.1284, 35.6215, 1.6942, -25.8141, -0.0378, \n",
    "       -16.9481, -61.1165, 15.5325, 12.2785, 11.6816, 12.9149, 10.2159, -72.1454])\n",
    "t_2 = t_2.T"
   ]
  },
  {
   "cell_type": "code",
   "execution_count": 103,
   "metadata": {},
   "outputs": [],
   "source": [
    "# constant term\n",
    "t_0 = np.matrix(np.ones(len(t_1))).T"
   ]
  },
  {
   "cell_type": "code",
   "execution_count": 90,
   "metadata": {},
   "outputs": [],
   "source": [
    "y = np.matrix([163, 74, -135, 126, -84, 103, -116, 29, 397, -174, -211, -218, -200, -223, 469]).T"
   ]
  },
  {
   "cell_type": "code",
   "execution_count": 138,
   "metadata": {},
   "outputs": [
    {
     "data": {
      "text/plain": [
       "matrix([[  1.    ,  72.0693],\n",
       "        [  1.    ,  49.3127],\n",
       "        [  1.    , -14.2052],\n",
       "        [  1.    ,  70.0119],\n",
       "        [  1.    , -14.3851],\n",
       "        [  1.    ,  -6.133 ],\n",
       "        [  1.    , -27.995 ],\n",
       "        [  1.    , -11.6537],\n",
       "        [  1.    ,  25.1774],\n",
       "        [  1.    , -24.4915],\n",
       "        [  1.    , -37.2383],\n",
       "        [  1.    , -39.1275],\n",
       "        [  1.    , -32.7934],\n",
       "        [  1.    , -41.8799],\n",
       "        [  1.    ,  33.3314]])"
      ]
     },
     "execution_count": 138,
     "metadata": {},
     "output_type": "execute_result"
    }
   ],
   "source": [
    "x = np.hstack((t_0,t_1))\n",
    "x"
   ]
  },
  {
   "cell_type": "markdown",
   "metadata": {},
   "source": [
    "Using the formula \\\\( \\hat\\beta = (X^{T}X)^{-1}X^{T}y\\\\) <br>\n",
    "Calculate estimate beta "
   ]
  },
  {
   "cell_type": "code",
   "execution_count": 139,
   "metadata": {},
   "outputs": [
    {
     "data": {
      "text/plain": [
       "matrix([[-2.78360339e-05],\n",
       "        [ 4.17540508e+00]])"
      ]
     },
     "execution_count": 139,
     "metadata": {},
     "output_type": "execute_result"
    }
   ],
   "source": [
    "beta_hat = np.linalg.inv(x.T * x) * x.T * y\n",
    "beta_hat"
   ]
  },
  {
   "cell_type": "code",
   "execution_count": 140,
   "metadata": {},
   "outputs": [
    {
     "data": {
      "text/plain": [
       "matrix([[-137.91849349],\n",
       "        [-131.90047025],\n",
       "        [ -75.68750792],\n",
       "        [-166.32801508],\n",
       "        [ -23.93635255],\n",
       "        [ 128.60778719],\n",
       "        [   0.89049305],\n",
       "        [  77.65894602],\n",
       "        [ 291.87418398],\n",
       "        [ -71.73803865],\n",
       "        [ -55.51498518],\n",
       "        [ -54.6268099 ],\n",
       "        [ -63.07424322],\n",
       "        [ -48.13442496],\n",
       "        [ 329.82793096]])"
      ]
     },
     "execution_count": 140,
     "metadata": {},
     "output_type": "execute_result"
    }
   ],
   "source": [
    "residual = y - x * beta_hat\n",
    "residual"
   ]
  },
  {
   "cell_type": "code",
   "execution_count": 141,
   "metadata": {},
   "outputs": [
    {
     "data": {
      "text/plain": [
       "matrix([[687728.]])"
      ]
     },
     "execution_count": 141,
     "metadata": {},
     "output_type": "execute_result"
    }
   ],
   "source": [
    "SST = (y - y.mean()).T * (y - y.mean())\n",
    "SST"
   ]
  },
  {
   "cell_type": "code",
   "execution_count": 142,
   "metadata": {},
   "outputs": [
    {
     "data": {
      "text/plain": [
       "matrix([[304442.10358948]])"
      ]
     },
     "execution_count": 142,
     "metadata": {},
     "output_type": "execute_result"
    }
   ],
   "source": [
    "SSE = residual.T * residual\n",
    "SSE"
   ]
  },
  {
   "cell_type": "code",
   "execution_count": 143,
   "metadata": {},
   "outputs": [
    {
     "data": {
      "text/plain": [
       "matrix([[0.55732193]])"
      ]
     },
     "execution_count": 143,
     "metadata": {},
     "output_type": "execute_result"
    }
   ],
   "source": [
    "r_square = 1 - (SSE / SST)\n",
    "r_square"
   ]
  },
  {
   "cell_type": "markdown",
   "metadata": {},
   "source": [
    "\\\\( R^{2} = 0.5573 \\\\)"
   ]
  },
  {
   "cell_type": "markdown",
   "metadata": {},
   "source": [
    "### (b)\tEstimate the coefficients in the PCR with t1 and t2 as independent variables and determine the coefficient of determination for this model."
   ]
  },
  {
   "cell_type": "code",
   "execution_count": 144,
   "metadata": {},
   "outputs": [
    {
     "data": {
      "text/plain": [
       "matrix([[ 1.00000e+00,  7.20693e+01,  2.90359e+01],\n",
       "        [ 1.00000e+00,  4.93127e+01,  2.89586e+01],\n",
       "        [ 1.00000e+00, -1.42052e+01,  1.81284e+01],\n",
       "        [ 1.00000e+00,  7.00119e+01,  3.56215e+01],\n",
       "        [ 1.00000e+00, -1.43851e+01,  1.69420e+00],\n",
       "        [ 1.00000e+00, -6.13300e+00, -2.58141e+01],\n",
       "        [ 1.00000e+00, -2.79950e+01, -3.78000e-02],\n",
       "        [ 1.00000e+00, -1.16537e+01, -1.69481e+01],\n",
       "        [ 1.00000e+00,  2.51774e+01, -6.11165e+01],\n",
       "        [ 1.00000e+00, -2.44915e+01,  1.55325e+01],\n",
       "        [ 1.00000e+00, -3.72383e+01,  1.22785e+01],\n",
       "        [ 1.00000e+00, -3.91275e+01,  1.16816e+01],\n",
       "        [ 1.00000e+00, -3.27934e+01,  1.29149e+01],\n",
       "        [ 1.00000e+00, -4.18799e+01,  1.02159e+01],\n",
       "        [ 1.00000e+00,  3.33314e+01, -7.21454e+01]])"
      ]
     },
     "execution_count": 144,
     "metadata": {},
     "output_type": "execute_result"
    }
   ],
   "source": [
    "x = np.hstack((t_0,t_1,t_2))\n",
    "x"
   ]
  },
  {
   "cell_type": "markdown",
   "metadata": {},
   "source": [
    "Using the formula \\\\( \\hat\\beta = (X^{T}X)^{-1}X^{T}y\\\\) <br>\n",
    "Calculate estimate beta "
   ]
  },
  {
   "cell_type": "code",
   "execution_count": 145,
   "metadata": {},
   "outputs": [
    {
     "data": {
      "text/plain": [
       "matrix([[ 3.25266621e-06],\n",
       "        [ 4.17540623e+00],\n",
       "        [-4.66330616e+00]])"
      ]
     },
     "execution_count": 145,
     "metadata": {},
     "output_type": "execute_result"
    }
   ],
   "source": [
    "beta_hat = np.linalg.inv(x.T * x) * x.T * y\n",
    "beta_hat"
   ]
  },
  {
   "cell_type": "code",
   "execution_count": 146,
   "metadata": {},
   "outputs": [
    {
     "data": {
      "text/plain": [
       "matrix([[ -2.51531608],\n",
       "        [  3.14225973],\n",
       "        [  8.85075665],\n",
       "        [ -0.21416628],\n",
       "        [-16.03579383],\n",
       "        [  8.22871166],\n",
       "        [  0.71422114],\n",
       "        [ -1.37525078],\n",
       "        [  6.86917319],\n",
       "        [  0.69476128],\n",
       "        [  1.74343116],\n",
       "        [ -0.15191884],\n",
       "        [ -2.84810395],\n",
       "        [ -0.49453858],\n",
       "        [ -6.60822647]])"
      ]
     },
     "execution_count": 146,
     "metadata": {},
     "output_type": "execute_result"
    }
   ],
   "source": [
    "residual = y - x * beta_hat\n",
    "residual"
   ]
  },
  {
   "cell_type": "code",
   "execution_count": 147,
   "metadata": {},
   "outputs": [
    {
     "data": {
      "text/plain": [
       "matrix([[687728.]])"
      ]
     },
     "execution_count": 147,
     "metadata": {},
     "output_type": "execute_result"
    }
   ],
   "source": [
    "SST = (y - y.mean()).T * (y - y.mean())\n",
    "SST"
   ]
  },
  {
   "cell_type": "code",
   "execution_count": 148,
   "metadata": {},
   "outputs": [
    {
     "data": {
      "text/plain": [
       "matrix([[524.5979642]])"
      ]
     },
     "execution_count": 148,
     "metadata": {},
     "output_type": "execute_result"
    }
   ],
   "source": [
    "SSE = residual.T * residual\n",
    "SSE"
   ]
  },
  {
   "cell_type": "code",
   "execution_count": 149,
   "metadata": {},
   "outputs": [
    {
     "data": {
      "text/plain": [
       "matrix([[0.9992372]])"
      ]
     },
     "execution_count": 149,
     "metadata": {},
     "output_type": "execute_result"
    }
   ],
   "source": [
    "r_square = 1 - (SSE / SST)\n",
    "r_square"
   ]
  },
  {
   "cell_type": "markdown",
   "metadata": {},
   "source": [
    "\\\\( R^{2} = 0.9992 \\\\)"
   ]
  },
  {
   "cell_type": "markdown",
   "metadata": {},
   "source": [
    "## Problem 8"
   ]
  },
  {
   "cell_type": "markdown",
   "metadata": {},
   "source": [
    "### (c)"
   ]
  },
  {
   "cell_type": "markdown",
   "metadata": {},
   "source": [
    "\\\\( p = \\frac{exp(-9.72357 + 0.782704X1 + 0.535184X6 + 0.937970X7)}{1+exp(-9.72357 + 0.782704X1 + 0.535184X6 + 0.937970X7)} \\\\)"
   ]
  },
  {
   "cell_type": "code",
   "execution_count": 4,
   "metadata": {},
   "outputs": [],
   "source": [
    "d = np.exp(-9.72357 + 0.782704 * 5 + 0.535184 * 10 + 0.937970 * 4)"
   ]
  },
  {
   "cell_type": "code",
   "execution_count": 5,
   "metadata": {},
   "outputs": [
    {
     "data": {
      "text/plain": [
       "0.9642110149521727"
      ]
     },
     "execution_count": 5,
     "metadata": {},
     "output_type": "execute_result"
    }
   ],
   "source": [
    "d/(d+1)"
   ]
  },
  {
   "cell_type": "markdown",
   "metadata": {},
   "source": [
    "### (d)"
   ]
  },
  {
   "cell_type": "markdown",
   "metadata": {},
   "source": [
    "probit(p) = -9.72357 + 0.782704 * 5 + 0.535184 * 10 + 0.937970 * 4"
   ]
  },
  {
   "cell_type": "markdown",
   "metadata": {},
   "source": [
    "p = cdf of normal distribution at point (-9.72357 + 0.782704 * 5 + 0.535184 * 10 + 0.937970 * 4)"
   ]
  },
  {
   "cell_type": "code",
   "execution_count": 13,
   "metadata": {},
   "outputs": [
    {
     "data": {
      "text/plain": [
       "0.999505557387677"
      ]
     },
     "execution_count": 13,
     "metadata": {},
     "output_type": "execute_result"
    }
   ],
   "source": [
    "p = stats.norm.cdf(-9.72357 + 0.782704 * 5 + 0.535184 * 10 + 0.937970 * 4)\n",
    "p"
   ]
  },
  {
   "cell_type": "code",
   "execution_count": 14,
   "metadata": {},
   "outputs": [
    {
     "data": {
      "text/plain": [
       "0.9998505018165776"
      ]
     },
     "execution_count": 14,
     "metadata": {},
     "output_type": "execute_result"
    }
   ],
   "source": [
    "p = stats.norm.cdf(-9.72357 + 0.782704 * 9 + 0.535184 * 3 + 0.937970 * 5)\n",
    "p"
   ]
  },
  {
   "cell_type": "markdown",
   "metadata": {},
   "source": [
    "## Problem 9"
   ]
  },
  {
   "cell_type": "markdown",
   "metadata": {},
   "source": [
    "###  \\\\( P_i = \\frac{exp(\\beta_0 + \\beta_1 x)}{1+exp(\\beta_0 + \\beta_1 x)} \\\\)"
   ]
  },
  {
   "cell_type": "markdown",
   "metadata": {},
   "source": [
    "###  \\\\( 1- P_i = \\frac{1}{1+exp(\\beta_0 + \\beta_1 x)}\\\\)"
   ]
  },
  {
   "cell_type": "markdown",
   "metadata": {},
   "source": [
    "###  \\\\( \\frac{P_i}{1-P_i} = exp(\\beta_0 + \\beta_1 x) \\\\)"
   ]
  },
  {
   "cell_type": "markdown",
   "metadata": {},
   "source": [
    "\\\\( logit(p) = ln( \\frac{P_i}{1-P_i} ) = \\beta_0 + \\beta_1x \\\\)"
   ]
  },
  {
   "cell_type": "markdown",
   "metadata": {},
   "source": [
    "## Problem 12"
   ]
  },
  {
   "cell_type": "markdown",
   "metadata": {},
   "source": [
    "Data A : 6,6,8 <br>\n",
    "Data B : 1,5,14"
   ]
  },
  {
   "cell_type": "code",
   "execution_count": 17,
   "metadata": {},
   "outputs": [
    {
     "data": {
      "text/plain": [
       "0.66"
      ]
     },
     "execution_count": 17,
     "metadata": {},
     "output_type": "execute_result"
    }
   ],
   "source": [
    "gini_A = 1 - (6/20) ** 2 - (6/20) ** 2 - (8/20) ** 2\n",
    "gini_A"
   ]
  },
  {
   "cell_type": "code",
   "execution_count": 19,
   "metadata": {},
   "outputs": [
    {
     "data": {
      "text/plain": [
       "0.4450000000000001"
      ]
     },
     "execution_count": 19,
     "metadata": {},
     "output_type": "execute_result"
    }
   ],
   "source": [
    "gini_B = 1 - (1/20) ** 2 - (5/20) ** 2 - (14/20) ** 2\n",
    "gini_B"
   ]
  },
  {
   "cell_type": "code",
   "execution_count": 20,
   "metadata": {},
   "outputs": [
    {
     "data": {
      "text/plain": [
       "1.0888999753452238"
      ]
     },
     "execution_count": 20,
     "metadata": {},
     "output_type": "execute_result"
    }
   ],
   "source": [
    "entropy_A = -((6/20)*np.log(6/20)+(6/20)*np.log(6/20)+(8/20)*np.log(8/20))\n",
    "entropy_A"
   ]
  },
  {
   "cell_type": "code",
   "execution_count": 21,
   "metadata": {},
   "outputs": [
    {
     "data": {
      "text/plain": [
       "0.7460326647147849"
      ]
     },
     "execution_count": 21,
     "metadata": {},
     "output_type": "execute_result"
    }
   ],
   "source": [
    "entropy_B = -((1/20)*np.log(1/20)+(5/20)*np.log(5/20)+(14/20)*np.log(14/20))\n",
    "entropy_B"
   ]
  },
  {
   "cell_type": "markdown",
   "metadata": {},
   "source": [
    "Since both Gini and Entropy is larger in the Data A, we can conclude that Data A's impurity is higher."
   ]
  },
  {
   "cell_type": "code",
   "execution_count": 22,
   "metadata": {},
   "outputs": [
    {
     "data": {
      "text/plain": [
       "0.2777777777777777"
      ]
     },
     "execution_count": 22,
     "metadata": {},
     "output_type": "execute_result"
    }
   ],
   "source": [
    "1-(1/6) **2 - (5/6) ** 2"
   ]
  },
  {
   "cell_type": "code",
   "execution_count": 25,
   "metadata": {},
   "outputs": [
    {
     "data": {
      "text/plain": [
       "0.33330000000000004"
      ]
     },
     "execution_count": 25,
     "metadata": {},
     "output_type": "execute_result"
    }
   ],
   "source": [
    "0.5 - 0.1667"
   ]
  },
  {
   "cell_type": "code",
   "execution_count": 26,
   "metadata": {},
   "outputs": [
    {
     "data": {
      "text/plain": [
       "0.48611111111111094"
      ]
     },
     "execution_count": 26,
     "metadata": {},
     "output_type": "execute_result"
    }
   ],
   "source": [
    "1-(7/12)**2-(5/12)**2"
   ]
  },
  {
   "cell_type": "markdown",
   "metadata": {},
   "source": [
    "## Problem 11"
   ]
  },
  {
   "cell_type": "code",
   "execution_count": 27,
   "metadata": {},
   "outputs": [],
   "source": [
    "s_1 = np.matrix([[600, 238.8],[238.8, 225]])\n",
    "s_2 = np.matrix([[500,176.8],[176.8, 250]])"
   ]
  },
  {
   "cell_type": "code",
   "execution_count": 35,
   "metadata": {},
   "outputs": [],
   "source": [
    "s_w = (s_1 + s_2) / 250"
   ]
  },
  {
   "cell_type": "code",
   "execution_count": 37,
   "metadata": {},
   "outputs": [
    {
     "data": {
      "text/plain": [
       "matrix([[-0.16982266],\n",
       "        [-1.95667727]])"
      ]
     },
     "execution_count": 37,
     "metadata": {},
     "output_type": "execute_result"
    }
   ],
   "source": [
    "np.linalg.inv(s_w) * np.matrix([[-4],[-4]])"
   ]
  },
  {
   "cell_type": "code",
   "execution_count": 27,
   "metadata": {},
   "outputs": [],
   "source": [
    "import pandas as pd\n",
    "import numpy as np"
   ]
  },
  {
   "cell_type": "code",
   "execution_count": 28,
   "metadata": {},
   "outputs": [
    {
     "data": {
      "text/plain": [
       "0    0.25\n",
       "1    0.25\n",
       "2    0.25\n",
       "3    0.25\n",
       "dtype: float64"
      ]
     },
     "execution_count": 28,
     "metadata": {},
     "output_type": "execute_result"
    }
   ],
   "source": [
    "a = pd.Series([0.25,0.25,0.25,0.25])\n",
    "a"
   ]
  },
  {
   "cell_type": "code",
   "execution_count": 29,
   "metadata": {},
   "outputs": [
    {
     "data": {
      "text/plain": [
       "0    1.0\n",
       "1   -0.5\n",
       "2    1.0\n",
       "3   -0.5\n",
       "dtype: float64"
      ]
     },
     "execution_count": 29,
     "metadata": {},
     "output_type": "execute_result"
    }
   ],
   "source": [
    "b = pd.Series([1,-0.5,1,-0.5])\n",
    "b"
   ]
  },
  {
   "cell_type": "code",
   "execution_count": 30,
   "metadata": {},
   "outputs": [],
   "source": [
    "def get_CAGR(data):\n",
    "    data = np.array(data) + 1\n",
    "    return data.prod() ** (1/len(data))"
   ]
  },
  {
   "cell_type": "code",
   "execution_count": 31,
   "metadata": {},
   "outputs": [
    {
     "data": {
      "text/plain": [
       "1.25"
      ]
     },
     "execution_count": 31,
     "metadata": {},
     "output_type": "execute_result"
    }
   ],
   "source": [
    "get_CAGR(a)"
   ]
  },
  {
   "cell_type": "code",
   "execution_count": 32,
   "metadata": {},
   "outputs": [
    {
     "data": {
      "text/plain": [
       "1.0"
      ]
     },
     "execution_count": 32,
     "metadata": {},
     "output_type": "execute_result"
    }
   ],
   "source": [
    "get_CAGR(b)"
   ]
  }
 ],
 "metadata": {
  "kernelspec": {
   "display_name": "Python 3",
   "language": "python",
   "name": "python3"
  },
  "language_info": {
   "codemirror_mode": {
    "name": "ipython",
    "version": 3
   },
   "file_extension": ".py",
   "mimetype": "text/x-python",
   "name": "python",
   "nbconvert_exporter": "python",
   "pygments_lexer": "ipython3",
   "version": "3.6.1"
  }
 },
 "nbformat": 4,
 "nbformat_minor": 2
}
